{
  "nbformat": 4,
  "nbformat_minor": 0,
  "metadata": {
    "colab": {
      "name": "lab Analysis air passengers",
      "provenance": [],
      "collapsed_sections": []
    },
    "kernelspec": {
      "name": "python3",
      "display_name": "Python 3"
    }
  },
  "cells": [
    {
      "cell_type": "markdown",
      "metadata": {
        "id": "Z5CEJiak4sHc"
      },
      "source": [
        "# Analysis of a10.csv dataset\n",
        "\n"
      ]
    },
    {
      "cell_type": "code",
      "metadata": {
        "id": "MpTGfPbL44N5"
      },
      "source": [
        "import pandas as pd"
      ],
      "execution_count": null,
      "outputs": []
    },
    {
      "cell_type": "code",
      "metadata": {
        "id": "tRtehUf746DK"
      },
      "source": [
        "# load dataset\n",
        "\n",
        "url = \"https://raw.githubusercontent.com/alexisperrier/emines_ts/master/data/otexts/a10.csv\"\n",
        "\n",
        "df = pd.read_csv(url)\n"
      ],
      "execution_count": null,
      "outputs": []
    },
    {
      "cell_type": "code",
      "metadata": {
        "colab": {
          "base_uri": "https://localhost:8080/",
          "height": 212
        },
        "id": "WNOUZTzw4-jH",
        "outputId": "925d28c0-2e6e-4740-bf5b-f261f9e0087d"
      },
      "source": [
        "print(df.shape)\n",
        "df.head()"
      ],
      "execution_count": null,
      "outputs": [
        {
          "output_type": "stream",
          "text": [
            "(204, 2)\n"
          ],
          "name": "stdout"
        },
        {
          "output_type": "execute_result",
          "data": {
            "text/html": [
              "<div>\n",
              "<style scoped>\n",
              "    .dataframe tbody tr th:only-of-type {\n",
              "        vertical-align: middle;\n",
              "    }\n",
              "\n",
              "    .dataframe tbody tr th {\n",
              "        vertical-align: top;\n",
              "    }\n",
              "\n",
              "    .dataframe thead th {\n",
              "        text-align: right;\n",
              "    }\n",
              "</style>\n",
              "<table border=\"1\" class=\"dataframe\">\n",
              "  <thead>\n",
              "    <tr style=\"text-align: right;\">\n",
              "      <th></th>\n",
              "      <th>index</th>\n",
              "      <th>value</th>\n",
              "    </tr>\n",
              "  </thead>\n",
              "  <tbody>\n",
              "    <tr>\n",
              "      <th>0</th>\n",
              "      <td>1991 Jul</td>\n",
              "      <td>3.526591</td>\n",
              "    </tr>\n",
              "    <tr>\n",
              "      <th>1</th>\n",
              "      <td>1991 Aug</td>\n",
              "      <td>3.180891</td>\n",
              "    </tr>\n",
              "    <tr>\n",
              "      <th>2</th>\n",
              "      <td>1991 Sep</td>\n",
              "      <td>3.252221</td>\n",
              "    </tr>\n",
              "    <tr>\n",
              "      <th>3</th>\n",
              "      <td>1991 Oct</td>\n",
              "      <td>3.611003</td>\n",
              "    </tr>\n",
              "    <tr>\n",
              "      <th>4</th>\n",
              "      <td>1991 Nov</td>\n",
              "      <td>3.565869</td>\n",
              "    </tr>\n",
              "  </tbody>\n",
              "</table>\n",
              "</div>"
            ],
            "text/plain": [
              "      index     value\n",
              "0  1991 Jul  3.526591\n",
              "1  1991 Aug  3.180891\n",
              "2  1991 Sep  3.252221\n",
              "3  1991 Oct  3.611003\n",
              "4  1991 Nov  3.565869"
            ]
          },
          "metadata": {
            "tags": []
          },
          "execution_count": 79
        }
      ]
    },
    {
      "cell_type": "markdown",
      "metadata": {
        "id": "Vq9f8FDu5GXO"
      },
      "source": [
        "# Transformer en pd.Series avec les dates pour index"
      ]
    },
    {
      "cell_type": "code",
      "metadata": {
        "colab": {
          "base_uri": "https://localhost:8080/",
          "height": 402
        },
        "id": "1nw-HGDt4_mw",
        "outputId": "58d55303-ea6d-4514-d1d7-740ad7057d95"
      },
      "source": [
        "from dateutil import parser\n",
        "\n",
        "df['date'] = df['index'].apply(lambda d : parser.parse(d))\n",
        "\n",
        "df"
      ],
      "execution_count": null,
      "outputs": [
        {
          "output_type": "execute_result",
          "data": {
            "text/html": [
              "<div>\n",
              "<style scoped>\n",
              "    .dataframe tbody tr th:only-of-type {\n",
              "        vertical-align: middle;\n",
              "    }\n",
              "\n",
              "    .dataframe tbody tr th {\n",
              "        vertical-align: top;\n",
              "    }\n",
              "\n",
              "    .dataframe thead th {\n",
              "        text-align: right;\n",
              "    }\n",
              "</style>\n",
              "<table border=\"1\" class=\"dataframe\">\n",
              "  <thead>\n",
              "    <tr style=\"text-align: right;\">\n",
              "      <th></th>\n",
              "      <th>index</th>\n",
              "      <th>value</th>\n",
              "      <th>date</th>\n",
              "    </tr>\n",
              "  </thead>\n",
              "  <tbody>\n",
              "    <tr>\n",
              "      <th>0</th>\n",
              "      <td>1991 Jul</td>\n",
              "      <td>3.526591</td>\n",
              "      <td>1991-07-26</td>\n",
              "    </tr>\n",
              "    <tr>\n",
              "      <th>1</th>\n",
              "      <td>1991 Aug</td>\n",
              "      <td>3.180891</td>\n",
              "      <td>1991-08-26</td>\n",
              "    </tr>\n",
              "    <tr>\n",
              "      <th>2</th>\n",
              "      <td>1991 Sep</td>\n",
              "      <td>3.252221</td>\n",
              "      <td>1991-09-26</td>\n",
              "    </tr>\n",
              "    <tr>\n",
              "      <th>3</th>\n",
              "      <td>1991 Oct</td>\n",
              "      <td>3.611003</td>\n",
              "      <td>1991-10-26</td>\n",
              "    </tr>\n",
              "    <tr>\n",
              "      <th>4</th>\n",
              "      <td>1991 Nov</td>\n",
              "      <td>3.565869</td>\n",
              "      <td>1991-11-26</td>\n",
              "    </tr>\n",
              "    <tr>\n",
              "      <th>...</th>\n",
              "      <td>...</td>\n",
              "      <td>...</td>\n",
              "      <td>...</td>\n",
              "    </tr>\n",
              "    <tr>\n",
              "      <th>199</th>\n",
              "      <td>2008 Feb</td>\n",
              "      <td>21.654285</td>\n",
              "      <td>2008-02-26</td>\n",
              "    </tr>\n",
              "    <tr>\n",
              "      <th>200</th>\n",
              "      <td>2008 Mar</td>\n",
              "      <td>18.264945</td>\n",
              "      <td>2008-03-26</td>\n",
              "    </tr>\n",
              "    <tr>\n",
              "      <th>201</th>\n",
              "      <td>2008 Apr</td>\n",
              "      <td>23.107677</td>\n",
              "      <td>2008-04-26</td>\n",
              "    </tr>\n",
              "    <tr>\n",
              "      <th>202</th>\n",
              "      <td>2008 May</td>\n",
              "      <td>22.912510</td>\n",
              "      <td>2008-05-26</td>\n",
              "    </tr>\n",
              "    <tr>\n",
              "      <th>203</th>\n",
              "      <td>2008 Jun</td>\n",
              "      <td>19.431740</td>\n",
              "      <td>2008-06-26</td>\n",
              "    </tr>\n",
              "  </tbody>\n",
              "</table>\n",
              "<p>204 rows × 3 columns</p>\n",
              "</div>"
            ],
            "text/plain": [
              "        index      value       date\n",
              "0    1991 Jul   3.526591 1991-07-26\n",
              "1    1991 Aug   3.180891 1991-08-26\n",
              "2    1991 Sep   3.252221 1991-09-26\n",
              "3    1991 Oct   3.611003 1991-10-26\n",
              "4    1991 Nov   3.565869 1991-11-26\n",
              "..        ...        ...        ...\n",
              "199  2008 Feb  21.654285 2008-02-26\n",
              "200  2008 Mar  18.264945 2008-03-26\n",
              "201  2008 Apr  23.107677 2008-04-26\n",
              "202  2008 May  22.912510 2008-05-26\n",
              "203  2008 Jun  19.431740 2008-06-26\n",
              "\n",
              "[204 rows x 3 columns]"
            ]
          },
          "metadata": {
            "tags": []
          },
          "execution_count": 80
        }
      ]
    },
    {
      "cell_type": "code",
      "metadata": {
        "colab": {
          "base_uri": "https://localhost:8080/"
        },
        "id": "4n02-C7E5pG2",
        "outputId": "ca83c698-36c1-4c0e-ac52-3d04cecb20ad"
      },
      "source": [
        "\n",
        "ts = pd.Series(data = df.value.values, index = df['date'])\n",
        "ts\n"
      ],
      "execution_count": null,
      "outputs": [
        {
          "output_type": "execute_result",
          "data": {
            "text/plain": [
              "date\n",
              "1991-07-26     3.526591\n",
              "1991-08-26     3.180891\n",
              "1991-09-26     3.252221\n",
              "1991-10-26     3.611003\n",
              "1991-11-26     3.565869\n",
              "                ...    \n",
              "2008-02-26    21.654285\n",
              "2008-03-26    18.264945\n",
              "2008-04-26    23.107677\n",
              "2008-05-26    22.912510\n",
              "2008-06-26    19.431740\n",
              "Length: 204, dtype: float64"
            ]
          },
          "metadata": {
            "tags": []
          },
          "execution_count": 81
        }
      ]
    },
    {
      "cell_type": "code",
      "metadata": {
        "colab": {
          "base_uri": "https://localhost:8080/",
          "height": 286
        },
        "id": "R-p3AjNF6jL-",
        "outputId": "2f23d227-da0f-4c05-8736-e9b5341ad9ee"
      },
      "source": [
        "ts.plot()"
      ],
      "execution_count": null,
      "outputs": [
        {
          "output_type": "execute_result",
          "data": {
            "text/plain": [
              "<matplotlib.axes._subplots.AxesSubplot at 0x7f3a7ba3a048>"
            ]
          },
          "metadata": {
            "tags": []
          },
          "execution_count": 82
        },
        {
          "output_type": "display_data",
          "data": {
            "image/png": "[encoded data removed]",
            "text/plain": [
              "<Figure size 432x288 with 1 Axes>"
            ]
          },
          "metadata": {
            "tags": [],
            "needs_background": "light"
          }
        }
      ]
    },
    {
      "cell_type": "code",
      "metadata": {
        "colab": {
          "base_uri": "https://localhost:8080/",
          "height": 390
        },
        "id": "vsi8L115VUmj",
        "outputId": "35610e09-9175-4dcd-ad6a-a6c6bfb44a3b"
      },
      "source": [
        "d1 = ts.diff()\n",
        "\n",
        "d1 = d1[~d1.isna()]\n",
        "\n",
        "d1.plot()\n",
        "\n",
        "\n",
        "res = adfuller(d1)\n",
        "\n",
        "print(f\"la p-value est {res[1]} >> 0.05 donc on peut pas rejeter H0: a unit root is present in a time series sample  \")\n",
        "\n",
        "# => pas stationnaire avec adfuller\n",
        "\n",
        "res = kpss(d1)\n",
        "print(f\"la p-value est {res[1]} > 0.05 donc on peut pas rejeter H0: time series is stationary \")\n",
        "\n",
        "# => stationnaire avec KPSS"
      ],
      "execution_count": null,
      "outputs": [
        {
          "output_type": "stream",
          "text": [
            "la p-value est 0.11665341686469871 >> 0.05 donc on peut pas rejeter H0: a unit root is present in a time series sample  \n",
            "la p-value est 0.1 > 0.05 donc on peut pas rejeter H0: time series is stationary \n"
          ],
          "name": "stdout"
        },
        {
          "output_type": "stream",
          "text": [
            "/usr/local/lib/python3.6/dist-packages/statsmodels/tsa/stattools.py:1685: FutureWarning: The behavior of using lags=None will change in the next release. Currently lags=None is the same as lags='legacy', and so a sample-size lag length is used. After the next release, the default will change to be the same as lags='auto' which uses an automatic lag length selection method. To silence this warning, either use 'auto' or 'legacy'\n",
            "  warn(msg, FutureWarning)\n",
            "/usr/local/lib/python3.6/dist-packages/statsmodels/tsa/stattools.py:1711: InterpolationWarning: p-value is greater than the indicated p-value\n",
            "  warn(\"p-value is greater than the indicated p-value\", InterpolationWarning)\n"
          ],
          "name": "stderr"
        },
        {
          "output_type": "display_data",
          "data": {
            "image/png": "[encoded data removed]",
            "text/plain": [
              "<Figure size 432x288 with 1 Axes>"
            ]
          },
          "metadata": {
            "tags": [],
            "needs_background": "light"
          }
        }
      ]
    },
    {
      "cell_type": "markdown",
      "metadata": {
        "id": "5tR9-4ec7pmJ"
      },
      "source": [
        "# tester si c'est un white noise: ljung box\n",
        "\n"
      ]
    },
    {
      "cell_type": "code",
      "metadata": {
        "colab": {
          "base_uri": "https://localhost:8080/"
        },
        "id": "rxvzM-mN7hCa",
        "outputId": "bdf00c22-d43f-433d-8094-a5160ad76dc8"
      },
      "source": [
        "import statsmodels.api as sm\n",
        "res = sm.stats.acorr_ljungbox(ts, lags=[5])\n",
        "print(f\"Resultat du test Ljung-Box p-value: {  res[1][0] }\")"
      ],
      "execution_count": null,
      "outputs": [
        {
          "output_type": "stream",
          "text": [
            "Resultat du test Ljung-Box p-value: 3.1671408080658715e-167\n"
          ],
          "name": "stdout"
        }
      ]
    },
    {
      "cell_type": "markdown",
      "metadata": {
        "id": "yxBFQy-x8rwa"
      },
      "source": [
        "p-value << 0.5 donc on rejete H0: The data are independently distributed \n",
        "\n",
        "\n",
        "Donc ce ne peut etre un white noise\n",
        "\n",
        "ce qui est evident quand on regarde simplement la serie "
      ]
    },
    {
      "cell_type": "markdown",
      "metadata": {
        "id": "PTvT7u5-9CoD"
      },
      "source": [
        "# Stationarité ?\n",
        "\n",
        "Pas besoin de faire un test pour voir que \n",
        "\n",
        "1. la moyenne dépend du temps.\n",
        "2. la variance aussi\n",
        "\n",
        "Mais verifions que le test ADF confirme que la serie n'est pas stationnaire.\n",
        "\n",
        "Si p-value >> 0.5 alors il y a une unit root et la serie n'est pas stationnaire\n",
        "\n"
      ]
    },
    {
      "cell_type": "code",
      "metadata": {
        "colab": {
          "base_uri": "https://localhost:8080/"
        },
        "id": "1Qwrdm1i8QT2",
        "outputId": "c71b7420-9c6a-47c9-c0dc-93a084645852"
      },
      "source": [
        "from statsmodels.tsa.stattools import adfuller\n",
        "\n",
        "res = adfuller(ts)\n",
        "\n",
        "print(f\"la p-value est {res[1]} >>0.05 donc on ne peut rejeter H0: a unit root is present in a time series sample  \")"
      ],
      "execution_count": null,
      "outputs": [
        {
          "output_type": "stream",
          "text": [
            "la p-value est 1.0 >>0.05 donc on ne peut rejeter H0: a unit root is present in a time series sample  \n"
          ],
          "name": "stdout"
        }
      ]
    },
    {
      "cell_type": "markdown",
      "metadata": {
        "id": "iEo_rNpA-X0Z"
      },
      "source": [
        "# KPSS Test de stationarité\n",
        "\n",
        "https://www.machinelearningplus.com/time-series/kpss-test-for-stationarity/ \n",
        "\n",
        "the null hypothesis of the KPSS test is that the series is stationary."
      ]
    },
    {
      "cell_type": "code",
      "metadata": {
        "colab": {
          "base_uri": "https://localhost:8080/"
        },
        "id": "81hM40Ky8dOh",
        "outputId": "79382f1d-d25c-4753-8c7c-fb527a606ad1"
      },
      "source": [
        "from statsmodels.tsa.stattools import kpss\n",
        "res = kpss(ts)\n",
        "print(f\"la p-value est {res[1]} < 0.05 donc on peut rejeter H0: time series is stationary \")"
      ],
      "execution_count": null,
      "outputs": [
        {
          "output_type": "stream",
          "text": [
            "la p-value est 0.01 < 0.05 donc on peut rejeter H0: time series is stationary \n"
          ],
          "name": "stdout"
        },
        {
          "output_type": "stream",
          "text": [
            "/usr/local/lib/python3.6/dist-packages/statsmodels/tsa/stattools.py:1685: FutureWarning: The behavior of using lags=None will change in the next release. Currently lags=None is the same as lags='legacy', and so a sample-size lag length is used. After the next release, the default will change to be the same as lags='auto' which uses an automatic lag length selection method. To silence this warning, either use 'auto' or 'legacy'\n",
            "  warn(msg, FutureWarning)\n",
            "/usr/local/lib/python3.6/dist-packages/statsmodels/tsa/stattools.py:1709: InterpolationWarning: p-value is smaller than the indicated p-value\n",
            "  warn(\"p-value is smaller than the indicated p-value\", InterpolationWarning)\n"
          ],
          "name": "stderr"
        }
      ]
    },
    {
      "cell_type": "markdown",
      "metadata": {
        "id": "X8VRlX8p_CyK"
      },
      "source": [
        "Les 2 tests (ADF et KPSS) confirme que la serie n'est pas stationnaire"
      ]
    },
    {
      "cell_type": "code",
      "metadata": {
        "id": "s0WSMK2A-y4Y"
      },
      "source": [
        ""
      ],
      "execution_count": null,
      "outputs": []
    },
    {
      "cell_type": "markdown",
      "metadata": {
        "id": "OEqXg9uGDqnx"
      },
      "source": [
        "# Temperature\n",
        "\n",
        "\n",
        "\n"
      ]
    },
    {
      "cell_type": "code",
      "metadata": {
        "id": "hUwPGfWvDuOX"
      },
      "source": [
        "url = \"https://raw.githubusercontent.com/alexisperrier/emines_ts/master/data/Historical%20Hourly%20Weather%20Data%202012-2017/temperature.csv\"\n",
        "df = pd.read_csv(url)"
      ],
      "execution_count": null,
      "outputs": []
    },
    {
      "cell_type": "code",
      "metadata": {
        "colab": {
          "base_uri": "https://localhost:8080/",
          "height": 400
        },
        "id": "3sx-2xEODv1X",
        "outputId": "8b47c272-21a3-4b76-f2a0-111f3e2150a3"
      },
      "source": [
        "df.head()"
      ],
      "execution_count": null,
      "outputs": [
        {
          "output_type": "execute_result",
          "data": {
            "text/html": [
              "<div>\n",
              "<style scoped>\n",
              "    .dataframe tbody tr th:only-of-type {\n",
              "        vertical-align: middle;\n",
              "    }\n",
              "\n",
              "    .dataframe tbody tr th {\n",
              "        vertical-align: top;\n",
              "    }\n",
              "\n",
              "    .dataframe thead th {\n",
              "        text-align: right;\n",
              "    }\n",
              "</style>\n",
              "<table border=\"1\" class=\"dataframe\">\n",
              "  <thead>\n",
              "    <tr style=\"text-align: right;\">\n",
              "      <th></th>\n",
              "      <th>datetime</th>\n",
              "      <th>Vancouver</th>\n",
              "      <th>Portland</th>\n",
              "      <th>San Francisco</th>\n",
              "      <th>Seattle</th>\n",
              "      <th>Los Angeles</th>\n",
              "      <th>San Diego</th>\n",
              "      <th>Las Vegas</th>\n",
              "      <th>Phoenix</th>\n",
              "      <th>Albuquerque</th>\n",
              "      <th>Denver</th>\n",
              "      <th>San Antonio</th>\n",
              "      <th>Dallas</th>\n",
              "      <th>Houston</th>\n",
              "      <th>Kansas City</th>\n",
              "      <th>Minneapolis</th>\n",
              "      <th>Saint Louis</th>\n",
              "      <th>Chicago</th>\n",
              "      <th>Nashville</th>\n",
              "      <th>Indianapolis</th>\n",
              "      <th>Atlanta</th>\n",
              "      <th>Detroit</th>\n",
              "      <th>Jacksonville</th>\n",
              "      <th>Charlotte</th>\n",
              "      <th>Miami</th>\n",
              "      <th>Pittsburgh</th>\n",
              "      <th>Toronto</th>\n",
              "      <th>Philadelphia</th>\n",
              "      <th>New York</th>\n",
              "      <th>Montreal</th>\n",
              "      <th>Boston</th>\n",
              "      <th>Beersheba</th>\n",
              "      <th>Tel Aviv District</th>\n",
              "      <th>Eilat</th>\n",
              "      <th>Haifa</th>\n",
              "      <th>Nahariyya</th>\n",
              "      <th>Jerusalem</th>\n",
              "    </tr>\n",
              "  </thead>\n",
              "  <tbody>\n",
              "    <tr>\n",
              "      <th>0</th>\n",
              "      <td>2012-10-01 12:00:00</td>\n",
              "      <td>NaN</td>\n",
              "      <td>NaN</td>\n",
              "      <td>NaN</td>\n",
              "      <td>NaN</td>\n",
              "      <td>NaN</td>\n",
              "      <td>NaN</td>\n",
              "      <td>NaN</td>\n",
              "      <td>NaN</td>\n",
              "      <td>NaN</td>\n",
              "      <td>NaN</td>\n",
              "      <td>NaN</td>\n",
              "      <td>NaN</td>\n",
              "      <td>NaN</td>\n",
              "      <td>NaN</td>\n",
              "      <td>NaN</td>\n",
              "      <td>NaN</td>\n",
              "      <td>NaN</td>\n",
              "      <td>NaN</td>\n",
              "      <td>NaN</td>\n",
              "      <td>NaN</td>\n",
              "      <td>NaN</td>\n",
              "      <td>NaN</td>\n",
              "      <td>NaN</td>\n",
              "      <td>NaN</td>\n",
              "      <td>NaN</td>\n",
              "      <td>NaN</td>\n",
              "      <td>NaN</td>\n",
              "      <td>NaN</td>\n",
              "      <td>NaN</td>\n",
              "      <td>NaN</td>\n",
              "      <td>NaN</td>\n",
              "      <td>NaN</td>\n",
              "      <td>309.100000</td>\n",
              "      <td>NaN</td>\n",
              "      <td>NaN</td>\n",
              "      <td>NaN</td>\n",
              "    </tr>\n",
              "    <tr>\n",
              "      <th>1</th>\n",
              "      <td>2012-10-01 13:00:00</td>\n",
              "      <td>284.630000</td>\n",
              "      <td>282.080000</td>\n",
              "      <td>289.480000</td>\n",
              "      <td>281.800000</td>\n",
              "      <td>291.870000</td>\n",
              "      <td>291.530000</td>\n",
              "      <td>293.410000</td>\n",
              "      <td>296.600000</td>\n",
              "      <td>285.120000</td>\n",
              "      <td>284.610000</td>\n",
              "      <td>289.290000</td>\n",
              "      <td>289.740000</td>\n",
              "      <td>288.270000</td>\n",
              "      <td>289.980000</td>\n",
              "      <td>286.870000</td>\n",
              "      <td>286.180000</td>\n",
              "      <td>284.010000</td>\n",
              "      <td>287.410000</td>\n",
              "      <td>283.850000</td>\n",
              "      <td>294.030000</td>\n",
              "      <td>284.030000</td>\n",
              "      <td>298.170000</td>\n",
              "      <td>288.650000</td>\n",
              "      <td>299.720000</td>\n",
              "      <td>281.000000</td>\n",
              "      <td>286.260000</td>\n",
              "      <td>285.630000</td>\n",
              "      <td>288.220000</td>\n",
              "      <td>285.830000</td>\n",
              "      <td>287.170000</td>\n",
              "      <td>307.590000</td>\n",
              "      <td>305.470000</td>\n",
              "      <td>310.580000</td>\n",
              "      <td>304.4</td>\n",
              "      <td>304.4</td>\n",
              "      <td>303.5</td>\n",
              "    </tr>\n",
              "    <tr>\n",
              "      <th>2</th>\n",
              "      <td>2012-10-01 14:00:00</td>\n",
              "      <td>284.629041</td>\n",
              "      <td>282.083252</td>\n",
              "      <td>289.474993</td>\n",
              "      <td>281.797217</td>\n",
              "      <td>291.868186</td>\n",
              "      <td>291.533501</td>\n",
              "      <td>293.403141</td>\n",
              "      <td>296.608509</td>\n",
              "      <td>285.154558</td>\n",
              "      <td>284.607306</td>\n",
              "      <td>289.303649</td>\n",
              "      <td>289.762974</td>\n",
              "      <td>288.297576</td>\n",
              "      <td>289.997635</td>\n",
              "      <td>286.893636</td>\n",
              "      <td>286.185246</td>\n",
              "      <td>284.054691</td>\n",
              "      <td>287.421360</td>\n",
              "      <td>283.889394</td>\n",
              "      <td>294.035341</td>\n",
              "      <td>284.069789</td>\n",
              "      <td>298.205230</td>\n",
              "      <td>288.650172</td>\n",
              "      <td>299.732518</td>\n",
              "      <td>281.024767</td>\n",
              "      <td>286.262541</td>\n",
              "      <td>285.663208</td>\n",
              "      <td>288.247676</td>\n",
              "      <td>285.834650</td>\n",
              "      <td>287.186092</td>\n",
              "      <td>307.590000</td>\n",
              "      <td>304.310000</td>\n",
              "      <td>310.495769</td>\n",
              "      <td>304.4</td>\n",
              "      <td>304.4</td>\n",
              "      <td>303.5</td>\n",
              "    </tr>\n",
              "    <tr>\n",
              "      <th>3</th>\n",
              "      <td>2012-10-01 15:00:00</td>\n",
              "      <td>284.626998</td>\n",
              "      <td>282.091866</td>\n",
              "      <td>289.460618</td>\n",
              "      <td>281.789833</td>\n",
              "      <td>291.862844</td>\n",
              "      <td>291.543355</td>\n",
              "      <td>293.392177</td>\n",
              "      <td>296.631487</td>\n",
              "      <td>285.233952</td>\n",
              "      <td>284.599918</td>\n",
              "      <td>289.338497</td>\n",
              "      <td>289.830767</td>\n",
              "      <td>288.334343</td>\n",
              "      <td>290.038151</td>\n",
              "      <td>286.951401</td>\n",
              "      <td>286.199194</td>\n",
              "      <td>284.177412</td>\n",
              "      <td>287.454637</td>\n",
              "      <td>283.941919</td>\n",
              "      <td>294.049702</td>\n",
              "      <td>284.173965</td>\n",
              "      <td>298.299595</td>\n",
              "      <td>288.650582</td>\n",
              "      <td>299.766579</td>\n",
              "      <td>281.088319</td>\n",
              "      <td>286.269518</td>\n",
              "      <td>285.756824</td>\n",
              "      <td>288.326940</td>\n",
              "      <td>285.847790</td>\n",
              "      <td>287.231672</td>\n",
              "      <td>307.391513</td>\n",
              "      <td>304.281841</td>\n",
              "      <td>310.411538</td>\n",
              "      <td>304.4</td>\n",
              "      <td>304.4</td>\n",
              "      <td>303.5</td>\n",
              "    </tr>\n",
              "    <tr>\n",
              "      <th>4</th>\n",
              "      <td>2012-10-01 16:00:00</td>\n",
              "      <td>284.624955</td>\n",
              "      <td>282.100481</td>\n",
              "      <td>289.446243</td>\n",
              "      <td>281.782449</td>\n",
              "      <td>291.857503</td>\n",
              "      <td>291.553209</td>\n",
              "      <td>293.381213</td>\n",
              "      <td>296.654466</td>\n",
              "      <td>285.313345</td>\n",
              "      <td>284.592530</td>\n",
              "      <td>289.373345</td>\n",
              "      <td>289.898560</td>\n",
              "      <td>288.371111</td>\n",
              "      <td>290.078666</td>\n",
              "      <td>287.009166</td>\n",
              "      <td>286.213142</td>\n",
              "      <td>284.300133</td>\n",
              "      <td>287.487914</td>\n",
              "      <td>283.994444</td>\n",
              "      <td>294.064063</td>\n",
              "      <td>284.278140</td>\n",
              "      <td>298.393961</td>\n",
              "      <td>288.650991</td>\n",
              "      <td>299.800641</td>\n",
              "      <td>281.151870</td>\n",
              "      <td>286.276496</td>\n",
              "      <td>285.850440</td>\n",
              "      <td>288.406203</td>\n",
              "      <td>285.860929</td>\n",
              "      <td>287.277251</td>\n",
              "      <td>307.145200</td>\n",
              "      <td>304.238015</td>\n",
              "      <td>310.327308</td>\n",
              "      <td>304.4</td>\n",
              "      <td>304.4</td>\n",
              "      <td>303.5</td>\n",
              "    </tr>\n",
              "  </tbody>\n",
              "</table>\n",
              "</div>"
            ],
            "text/plain": [
              "              datetime   Vancouver    Portland  ...  Haifa  Nahariyya  Jerusalem\n",
              "0  2012-10-01 12:00:00         NaN         NaN  ...    NaN        NaN        NaN\n",
              "1  2012-10-01 13:00:00  284.630000  282.080000  ...  304.4      304.4      303.5\n",
              "2  2012-10-01 14:00:00  284.629041  282.083252  ...  304.4      304.4      303.5\n",
              "3  2012-10-01 15:00:00  284.626998  282.091866  ...  304.4      304.4      303.5\n",
              "4  2012-10-01 16:00:00  284.624955  282.100481  ...  304.4      304.4      303.5\n",
              "\n",
              "[5 rows x 37 columns]"
            ]
          },
          "metadata": {
            "tags": []
          },
          "execution_count": 33
        }
      ]
    },
    {
      "cell_type": "code",
      "metadata": {
        "colab": {
          "base_uri": "https://localhost:8080/"
        },
        "id": "muxyBphHEMgZ",
        "outputId": "2231ca2f-6e48-4ade-f053-7604502f5a0a"
      },
      "source": [
        "from dateutil import parser\n",
        "df['datetime'] = df['datetime'].apply(lambda d : parser.parse(d))\n",
        "\n",
        "df['datetime']"
      ],
      "execution_count": null,
      "outputs": [
        {
          "output_type": "execute_result",
          "data": {
            "text/plain": [
              "0       2012-10-01 12:00:00\n",
              "1       2012-10-01 13:00:00\n",
              "2       2012-10-01 14:00:00\n",
              "3       2012-10-01 15:00:00\n",
              "4       2012-10-01 16:00:00\n",
              "                ...        \n",
              "45248   2017-11-29 20:00:00\n",
              "45249   2017-11-29 21:00:00\n",
              "45250   2017-11-29 22:00:00\n",
              "45251   2017-11-29 23:00:00\n",
              "45252   2017-11-30 00:00:00\n",
              "Name: datetime, Length: 45253, dtype: datetime64[ns]"
            ]
          },
          "metadata": {
            "tags": []
          },
          "execution_count": 41
        }
      ]
    },
    {
      "cell_type": "code",
      "metadata": {
        "id": "uqQbQh4QDytX"
      },
      "source": [
        "ts = pd.Series(data = df.Boston.values, index = df['datetime'])"
      ],
      "execution_count": null,
      "outputs": []
    },
    {
      "cell_type": "code",
      "metadata": {
        "colab": {
          "base_uri": "https://localhost:8080/",
          "height": 297
        },
        "id": "Zwq0JZ_AFem3",
        "outputId": "fcf311f6-c317-41d1-c6af-843760fa9d9c"
      },
      "source": [
        "ts.plot()"
      ],
      "execution_count": null,
      "outputs": [
        {
          "output_type": "execute_result",
          "data": {
            "text/plain": [
              "<matplotlib.axes._subplots.AxesSubplot at 0x7f3a7d944208>"
            ]
          },
          "metadata": {
            "tags": []
          },
          "execution_count": 46
        },
        {
          "output_type": "display_data",
          "data": {
            "image/png": "[encoded data removed]",
            "text/plain": [
              "<Figure size 432x288 with 1 Axes>"
            ]
          },
          "metadata": {
            "tags": [],
            "needs_background": "light"
          }
        }
      ]
    },
    {
      "cell_type": "code",
      "metadata": {
        "id": "aVCRJtUuGR8c"
      },
      "source": [
        "ts = ts[~ts.isna()]"
      ],
      "execution_count": null,
      "outputs": []
    },
    {
      "cell_type": "code",
      "metadata": {
        "colab": {
          "base_uri": "https://localhost:8080/",
          "height": 545
        },
        "id": "7XpGAixUFfnL",
        "outputId": "d8e314e6-fc0c-4e28-c78a-5a294b7c1472"
      },
      "source": [
        "import statsmodels.tsa.api as smt\n",
        "smt.graphics.plot_pacf(ts.values)\n"
      ],
      "execution_count": null,
      "outputs": [
        {
          "output_type": "execute_result",
          "data": {
            "image/png": "[encoded data removed]",
            "text/plain": [
              "<Figure size 432x288 with 1 Axes>"
            ]
          },
          "metadata": {
            "tags": []
          },
          "execution_count": 51
        },
        {
          "output_type": "display_data",
          "data": {
            "image/png": "[encoded data removed]",
            "text/plain": [
              "<Figure size 432x288 with 1 Axes>"
            ]
          },
          "metadata": {
            "tags": [],
            "needs_background": "light"
          }
        }
      ]
    },
    {
      "cell_type": "code",
      "metadata": {
        "colab": {
          "base_uri": "https://localhost:8080/",
          "height": 545
        },
        "id": "IeBO-ZkPGA-a",
        "outputId": "8650a011-8564-4ef8-ca13-4cad3fcaa130"
      },
      "source": [
        "smt.graphics.plot_acf(ts.values)"
      ],
      "execution_count": null,
      "outputs": [
        {
          "output_type": "execute_result",
          "data": {
            "image/png": "[encoded data removed]",
            "text/plain": [
              "<Figure size 432x288 with 1 Axes>"
            ]
          },
          "metadata": {
            "tags": []
          },
          "execution_count": 52
        },
        {
          "output_type": "display_data",
          "data": {
            "image/png": "[encoded data removed]",
            "text/plain": [
              "<Figure size 432x288 with 1 Axes>"
            ]
          },
          "metadata": {
            "tags": [],
            "needs_background": "light"
          }
        }
      ]
    },
    {
      "cell_type": "markdown",
      "metadata": {
        "id": "PYM0ydzxStnN"
      },
      "source": [
        "# Differenciation\n",
        "\n",
        "https://machinelearningmastery.com/difference-time-series-dataset-python/\n"
      ]
    },
    {
      "cell_type": "code",
      "metadata": {
        "id": "wwd-9SftGcKg"
      },
      "source": [
        "?ts.diff()"
      ],
      "execution_count": null,
      "outputs": []
    },
    {
      "cell_type": "code",
      "metadata": {
        "colab": {
          "base_uri": "https://localhost:8080/",
          "height": 287
        },
        "id": "ncz0ZLhCTBaM",
        "outputId": "4be04651-e614-44a3-d1ff-46f7379ff985"
      },
      "source": [
        "ts.plot()"
      ],
      "execution_count": null,
      "outputs": [
        {
          "output_type": "execute_result",
          "data": {
            "text/plain": [
              "<matplotlib.axes._subplots.AxesSubplot at 0x7f3a7c9f1fd0>"
            ]
          },
          "metadata": {
            "tags": []
          },
          "execution_count": 56
        },
        {
          "output_type": "display_data",
          "data": {
            "image/png": "[encoded data removed]",
            "text/plain": [
              "<Figure size 432x288 with 1 Axes>"
            ]
          },
          "metadata": {
            "tags": [],
            "needs_background": "light"
          }
        }
      ]
    },
    {
      "cell_type": "code",
      "metadata": {
        "colab": {
          "base_uri": "https://localhost:8080/",
          "height": 289
        },
        "id": "zYLvlRC6OdTh",
        "outputId": "0f6f3a19-a201-4717-d1d7-c8aee64e5cde"
      },
      "source": [
        "ts.diff().plot()"
      ],
      "execution_count": null,
      "outputs": [
        {
          "output_type": "execute_result",
          "data": {
            "text/plain": [
              "<matplotlib.axes._subplots.AxesSubplot at 0x7f3a7cc9f7f0>"
            ]
          },
          "metadata": {
            "tags": []
          },
          "execution_count": 55
        },
        {
          "output_type": "display_data",
          "data": {
            "image/png": "[encoded data removed]",
            "text/plain": [
              "<Figure size 432x288 with 1 Axes>"
            ]
          },
          "metadata": {
            "tags": [],
            "needs_background": "light"
          }
        }
      ]
    },
    {
      "cell_type": "code",
      "metadata": {
        "id": "pBDCTR-0TAJM"
      },
      "source": [
        "d1 = ts.diff()\n",
        "d1 = d1[~d1.isna()]"
      ],
      "execution_count": null,
      "outputs": []
    },
    {
      "cell_type": "code",
      "metadata": {
        "colab": {
          "base_uri": "https://localhost:8080/"
        },
        "id": "YZrZrn88TpC_",
        "outputId": "54be2816-ed15-45d1-f96c-02cf36e98b13"
      },
      "source": [
        "d1"
      ],
      "execution_count": null,
      "outputs": [
        {
          "output_type": "execute_result",
          "data": {
            "text/plain": [
              "datetime\n",
              "2012-10-01 14:00:00    0.016092\n",
              "2012-10-01 15:00:00    0.045579\n",
              "2012-10-01 16:00:00    0.045579\n",
              "2012-10-01 17:00:00    0.045579\n",
              "2012-10-01 18:00:00    0.045579\n",
              "                         ...   \n",
              "2017-11-29 20:00:00   -1.080000\n",
              "2017-11-29 21:00:00   -2.060000\n",
              "2017-11-29 22:00:00   -2.080000\n",
              "2017-11-29 23:00:00   -1.770000\n",
              "2017-11-30 00:00:00   -1.520000\n",
              "Length: 45249, dtype: float64"
            ]
          },
          "metadata": {
            "tags": []
          },
          "execution_count": 67
        }
      ]
    },
    {
      "cell_type": "code",
      "metadata": {
        "colab": {
          "base_uri": "https://localhost:8080/",
          "height": 545
        },
        "id": "Wa9D0Bm7TWNs",
        "outputId": "7e5a884b-d6ad-4aa7-b6bc-d2eaaed59abf"
      },
      "source": [
        "smt.graphics.plot_acf(d1.values)"
      ],
      "execution_count": null,
      "outputs": [
        {
          "output_type": "execute_result",
          "data": {
            "image/png": "[encoded data removed]",
            "text/plain": [
              "<Figure size 432x288 with 1 Axes>"
            ]
          },
          "metadata": {
            "tags": []
          },
          "execution_count": 68
        },
        {
          "output_type": "display_data",
          "data": {
            "image/png": "[encoded data removed]",
            "text/plain": [
              "<Figure size 432x288 with 1 Axes>"
            ]
          },
          "metadata": {
            "tags": [],
            "needs_background": "light"
          }
        }
      ]
    },
    {
      "cell_type": "code",
      "metadata": {
        "colab": {
          "base_uri": "https://localhost:8080/",
          "height": 545
        },
        "id": "5TJId16vT1Aq",
        "outputId": "25d14740-9093-4ddb-f983-6e2d9bca1507"
      },
      "source": [
        "smt.graphics.plot_pacf(d1.values)"
      ],
      "execution_count": null,
      "outputs": [
        {
          "output_type": "execute_result",
          "data": {
            "image/png": "[encoded data removed]",
            "text/plain": [
              "<Figure size 432x288 with 1 Axes>"
            ]
          },
          "metadata": {
            "tags": []
          },
          "execution_count": 69
        },
        {
          "output_type": "display_data",
          "data": {
            "image/png": "[encoded data removed]",
            "text/plain": [
              "<Figure size 432x288 with 1 Axes>"
            ]
          },
          "metadata": {
            "tags": [],
            "needs_background": "light"
          }
        }
      ]
    },
    {
      "cell_type": "code",
      "metadata": {
        "colab": {
          "base_uri": "https://localhost:8080/"
        },
        "id": "KYpYmW02TKPE",
        "outputId": "3b092bfa-0b25-484e-9567-71d0e1d53cd0"
      },
      "source": [
        "res = adfuller(d1)\n",
        "\n",
        "print(f\"la p-value est {res[1]} << 0.05 donc on peut rejeter H0: a unit root is present in a time series sample  \")\n",
        "\n",
        "# => stationnaire avec adfuller\n",
        "\n",
        "\n",
        "res = kpss(d1)\n",
        "print(f\"la p-value est {res[1]} > 0.05 donc on peut pas rejeter H0: time series is stationary \")"
      ],
      "execution_count": null,
      "outputs": [
        {
          "output_type": "stream",
          "text": [
            "la p-value est 0.0 << 0.05 donc on peut rejeter H0: a unit root is present in a time series sample  \n",
            "la p-value est 0.1 > 0.05 donc on peut pas rejeter H0: time series is stationary \n"
          ],
          "name": "stdout"
        },
        {
          "output_type": "stream",
          "text": [
            "/usr/local/lib/python3.6/dist-packages/statsmodels/tsa/stattools.py:1685: FutureWarning: The behavior of using lags=None will change in the next release. Currently lags=None is the same as lags='legacy', and so a sample-size lag length is used. After the next release, the default will change to be the same as lags='auto' which uses an automatic lag length selection method. To silence this warning, either use 'auto' or 'legacy'\n",
            "  warn(msg, FutureWarning)\n",
            "/usr/local/lib/python3.6/dist-packages/statsmodels/tsa/stattools.py:1711: InterpolationWarning: p-value is greater than the indicated p-value\n",
            "  warn(\"p-value is greater than the indicated p-value\", InterpolationWarning)\n"
          ],
          "name": "stderr"
        }
      ]
    },
    {
      "cell_type": "code",
      "metadata": {
        "colab": {
          "base_uri": "https://localhost:8080/",
          "height": 289
        },
        "id": "gdLHiWrRTMet",
        "outputId": "4730b0ac-d2ea-4fd1-8f75-2f7e3785de48"
      },
      "source": [
        "d1.plot()"
      ],
      "execution_count": null,
      "outputs": [
        {
          "output_type": "execute_result",
          "data": {
            "text/plain": [
              "<matplotlib.axes._subplots.AxesSubplot at 0x7f3a7c2de320>"
            ]
          },
          "metadata": {
            "tags": []
          },
          "execution_count": 72
        },
        {
          "output_type": "display_data",
          "data": {
            "image/png": "[encoded data removed]",
            "text/plain": [
              "<Figure size 432x288 with 1 Axes>"
            ]
          },
          "metadata": {
            "tags": [],
            "needs_background": "light"
          }
        }
      ]
    },
    {
      "cell_type": "code",
      "metadata": {
        "colab": {
          "base_uri": "https://localhost:8080/",
          "height": 406
        },
        "id": "29QOsRIyTawx",
        "outputId": "17053ca3-45e4-4ba5-990e-927f5f5f0ee0"
      },
      "source": [
        "d2 = d1.diff()\n",
        "d2 = d2[~d2.isna()]\n",
        "\n",
        "res = adfuller(d2)\n",
        "\n",
        "print(f\"la p-value est {res[1]} << 0.05 donc on peut rejeter H0: a unit root is present in a time series sample  \")\n",
        "\n",
        "# => stationnaire avec adfuller\n",
        "\n",
        "\n",
        "res = kpss(d2)\n",
        "print(f\"la p-value est {res[1]} > 0.05 donc on peut pas rejeter H0: time series is stationary \")\n",
        "d2.plot()"
      ],
      "execution_count": null,
      "outputs": [
        {
          "output_type": "stream",
          "text": [
            "la p-value est 0.0 << 0.05 donc on peut rejeter H0: a unit root is present in a time series sample  \n",
            "la p-value est 0.1 > 0.05 donc on peut pas rejeter H0: time series is stationary \n"
          ],
          "name": "stdout"
        },
        {
          "output_type": "stream",
          "text": [
            "/usr/local/lib/python3.6/dist-packages/statsmodels/tsa/stattools.py:1685: FutureWarning: The behavior of using lags=None will change in the next release. Currently lags=None is the same as lags='legacy', and so a sample-size lag length is used. After the next release, the default will change to be the same as lags='auto' which uses an automatic lag length selection method. To silence this warning, either use 'auto' or 'legacy'\n",
            "  warn(msg, FutureWarning)\n",
            "/usr/local/lib/python3.6/dist-packages/statsmodels/tsa/stattools.py:1711: InterpolationWarning: p-value is greater than the indicated p-value\n",
            "  warn(\"p-value is greater than the indicated p-value\", InterpolationWarning)\n"
          ],
          "name": "stderr"
        },
        {
          "output_type": "execute_result",
          "data": {
            "text/plain": [
              "<matplotlib.axes._subplots.AxesSubplot at 0x7f3a7c06b978>"
            ]
          },
          "metadata": {
            "tags": []
          },
          "execution_count": 74
        },
        {
          "output_type": "display_data",
          "data": {
            "image/png": "[encoded data removed]",
            "text/plain": [
              "<Figure size 432x288 with 1 Axes>"
            ]
          },
          "metadata": {
            "tags": [],
            "needs_background": "light"
          }
        }
      ]
    },
    {
      "cell_type": "code",
      "metadata": {
        "id": "bsxqGf5KTdCI"
      },
      "source": [
        ""
      ],
      "execution_count": null,
      "outputs": []
    }
  ]
}
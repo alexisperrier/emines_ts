{
  "nbformat": 4,
  "nbformat_minor": 0,
  "metadata": {
    "colab": {
      "name": "AhmedTimeSeriesanalysis.ipynb",
      "provenance": [],
      "collapsed_sections": [],
      "authorship_tag": "ABX9TyNWyPggR9mH/fuyLCTtg+dV",
      "include_colab_link": true
    },
    "kernelspec": {
      "name": "python3",
      "display_name": "Python 3"
    }
  },
  "cells": [
    {
      "cell_type": "markdown",
      "metadata": {
        "id": "view-in-github",
        "colab_type": "text"
      },
      "source": [
        "<a href=\"https://colab.research.google.com/github/AhmedOUDAA/emines_ts/blob/time_series/AhmedTimeSeriesanalysis.ipynb\" target=\"_parent\"><img src=\"https://colab.research.google.com/assets/colab-badge.svg\" alt=\"Open In Colab\"/></a>"
      ]
    },
    {
      "cell_type": "markdown",
      "metadata": {
        "id": "OUj4y34dLWh2"
      },
      "source": [
        "Installer et Importer les bibliothèques nécessaires à notre travail"
      ]
    },
    {
      "cell_type": "code",
      "metadata": {
        "id": "dkQQ9fl4KyOb"
      },
      "source": [
        "!pip install pmdarima\r\n"
      ],
      "execution_count": 126,
      "outputs": []
    },
    {
      "cell_type": "code",
      "metadata": {
        "id": "v4Yi_A0z1rQo"
      },
      "source": [
        "import pandas as pd\r\n",
        "import statsmodels.tsa.api as sm\r\n",
        "from statsmodels.tsa.arima_model import ARMA,ARIMA\r\n",
        "from pmdarima import auto_arima"
      ],
      "execution_count": 127,
      "outputs": []
    },
    {
      "cell_type": "markdown",
      "metadata": {
        "id": "4n2xkqRhLuCe"
      },
      "source": [
        "Importer puis lire et faire des prétraitements sur notre data"
      ]
    },
    {
      "cell_type": "code",
      "metadata": {
        "id": "g3ag2WSnK8yT"
      },
      "source": [
        "url = \"https://raw.githubusercontent.com/AhmedOUDAA/emines_ts/master/data/time_series_covid_19_confirmed.csv\"\r\n",
        "\r\n",
        "df = pd.read_csv(url)"
      ],
      "execution_count": 128,
      "outputs": []
    },
    {
      "cell_type": "code",
      "metadata": {
        "colab": {
          "base_uri": "https://localhost:8080/",
          "height": 243
        },
        "id": "bpl7XRwWK80k",
        "outputId": "a6f82fbd-99c6-4fee-abcd-0a7a16c22547"
      },
      "source": [
        "df.head()"
      ],
      "execution_count": 129,
      "outputs": [
        {
          "output_type": "execute_result",
          "data": {
            "text/html": [
              "<div>\n",
              "<style scoped>\n",
              "    .dataframe tbody tr th:only-of-type {\n",
              "        vertical-align: middle;\n",
              "    }\n",
              "\n",
              "    .dataframe tbody tr th {\n",
              "        vertical-align: top;\n",
              "    }\n",
              "\n",
              "    .dataframe thead th {\n",
              "        text-align: right;\n",
              "    }\n",
              "</style>\n",
              "<table border=\"1\" class=\"dataframe\">\n",
              "  <thead>\n",
              "    <tr style=\"text-align: right;\">\n",
              "      <th></th>\n",
              "      <th>Province/State</th>\n",
              "      <th>Country/Region</th>\n",
              "      <th>Lat</th>\n",
              "      <th>Long</th>\n",
              "      <th>1/22/20</th>\n",
              "      <th>1/23/20</th>\n",
              "      <th>1/24/20</th>\n",
              "      <th>1/25/20</th>\n",
              "      <th>1/26/20</th>\n",
              "      <th>1/27/20</th>\n",
              "      <th>1/28/20</th>\n",
              "      <th>1/29/20</th>\n",
              "      <th>1/30/20</th>\n",
              "      <th>1/31/20</th>\n",
              "      <th>2/1/20</th>\n",
              "      <th>2/2/20</th>\n",
              "      <th>2/3/20</th>\n",
              "      <th>2/4/20</th>\n",
              "      <th>2/5/20</th>\n",
              "      <th>2/6/20</th>\n",
              "      <th>2/7/20</th>\n",
              "      <th>2/8/20</th>\n",
              "      <th>2/9/20</th>\n",
              "      <th>2/10/20</th>\n",
              "      <th>2/11/20</th>\n",
              "      <th>2/12/20</th>\n",
              "      <th>2/13/20</th>\n",
              "      <th>2/14/20</th>\n",
              "      <th>2/15/20</th>\n",
              "      <th>2/16/20</th>\n",
              "      <th>2/17/20</th>\n",
              "      <th>2/18/20</th>\n",
              "      <th>2/19/20</th>\n",
              "      <th>2/20/20</th>\n",
              "      <th>2/21/20</th>\n",
              "      <th>2/22/20</th>\n",
              "      <th>2/23/20</th>\n",
              "      <th>2/24/20</th>\n",
              "      <th>2/25/20</th>\n",
              "      <th>2/26/20</th>\n",
              "      <th>...</th>\n",
              "      <th>12/11/20</th>\n",
              "      <th>12/12/20</th>\n",
              "      <th>12/13/20</th>\n",
              "      <th>12/14/20</th>\n",
              "      <th>12/15/20</th>\n",
              "      <th>12/16/20</th>\n",
              "      <th>12/17/20</th>\n",
              "      <th>12/18/20</th>\n",
              "      <th>12/19/20</th>\n",
              "      <th>12/20/20</th>\n",
              "      <th>12/21/20</th>\n",
              "      <th>12/22/20</th>\n",
              "      <th>12/23/20</th>\n",
              "      <th>12/24/20</th>\n",
              "      <th>12/25/20</th>\n",
              "      <th>12/26/20</th>\n",
              "      <th>12/27/20</th>\n",
              "      <th>12/28/20</th>\n",
              "      <th>12/29/20</th>\n",
              "      <th>12/30/20</th>\n",
              "      <th>12/31/20</th>\n",
              "      <th>1/1/21</th>\n",
              "      <th>1/2/21</th>\n",
              "      <th>1/3/21</th>\n",
              "      <th>1/4/21</th>\n",
              "      <th>1/5/21</th>\n",
              "      <th>1/6/21</th>\n",
              "      <th>1/7/21</th>\n",
              "      <th>1/8/21</th>\n",
              "      <th>1/9/21</th>\n",
              "      <th>1/10/21</th>\n",
              "      <th>1/11/21</th>\n",
              "      <th>1/12/21</th>\n",
              "      <th>1/13/21</th>\n",
              "      <th>1/14/21</th>\n",
              "      <th>1/15/21</th>\n",
              "      <th>1/16/21</th>\n",
              "      <th>1/17/21</th>\n",
              "      <th>1/18/21</th>\n",
              "      <th>1/19/21</th>\n",
              "    </tr>\n",
              "  </thead>\n",
              "  <tbody>\n",
              "    <tr>\n",
              "      <th>0</th>\n",
              "      <td>NaN</td>\n",
              "      <td>Afghanistan</td>\n",
              "      <td>33.93911</td>\n",
              "      <td>67.709953</td>\n",
              "      <td>0</td>\n",
              "      <td>0</td>\n",
              "      <td>0</td>\n",
              "      <td>0</td>\n",
              "      <td>0</td>\n",
              "      <td>0</td>\n",
              "      <td>0</td>\n",
              "      <td>0</td>\n",
              "      <td>0</td>\n",
              "      <td>0</td>\n",
              "      <td>0</td>\n",
              "      <td>0</td>\n",
              "      <td>0</td>\n",
              "      <td>0</td>\n",
              "      <td>0</td>\n",
              "      <td>0</td>\n",
              "      <td>0</td>\n",
              "      <td>0</td>\n",
              "      <td>0</td>\n",
              "      <td>0</td>\n",
              "      <td>0</td>\n",
              "      <td>0</td>\n",
              "      <td>0</td>\n",
              "      <td>0</td>\n",
              "      <td>0</td>\n",
              "      <td>0</td>\n",
              "      <td>0</td>\n",
              "      <td>0</td>\n",
              "      <td>0</td>\n",
              "      <td>0</td>\n",
              "      <td>0</td>\n",
              "      <td>0</td>\n",
              "      <td>0</td>\n",
              "      <td>1</td>\n",
              "      <td>1</td>\n",
              "      <td>1</td>\n",
              "      <td>...</td>\n",
              "      <td>48116</td>\n",
              "      <td>48229</td>\n",
              "      <td>48527</td>\n",
              "      <td>48718</td>\n",
              "      <td>48952</td>\n",
              "      <td>49161</td>\n",
              "      <td>49378</td>\n",
              "      <td>49621</td>\n",
              "      <td>49681</td>\n",
              "      <td>49817</td>\n",
              "      <td>50013</td>\n",
              "      <td>50190</td>\n",
              "      <td>50433</td>\n",
              "      <td>50655</td>\n",
              "      <td>50810</td>\n",
              "      <td>50886</td>\n",
              "      <td>51039</td>\n",
              "      <td>51280</td>\n",
              "      <td>51350</td>\n",
              "      <td>51405</td>\n",
              "      <td>51526</td>\n",
              "      <td>51526</td>\n",
              "      <td>51526</td>\n",
              "      <td>51526</td>\n",
              "      <td>53011</td>\n",
              "      <td>53105</td>\n",
              "      <td>53105</td>\n",
              "      <td>53207</td>\n",
              "      <td>53332</td>\n",
              "      <td>53400</td>\n",
              "      <td>53489</td>\n",
              "      <td>53538</td>\n",
              "      <td>53584</td>\n",
              "      <td>53584</td>\n",
              "      <td>53775</td>\n",
              "      <td>53831</td>\n",
              "      <td>53938</td>\n",
              "      <td>53984</td>\n",
              "      <td>54062</td>\n",
              "      <td>54141</td>\n",
              "    </tr>\n",
              "    <tr>\n",
              "      <th>1</th>\n",
              "      <td>NaN</td>\n",
              "      <td>Albania</td>\n",
              "      <td>41.15330</td>\n",
              "      <td>20.168300</td>\n",
              "      <td>0</td>\n",
              "      <td>0</td>\n",
              "      <td>0</td>\n",
              "      <td>0</td>\n",
              "      <td>0</td>\n",
              "      <td>0</td>\n",
              "      <td>0</td>\n",
              "      <td>0</td>\n",
              "      <td>0</td>\n",
              "      <td>0</td>\n",
              "      <td>0</td>\n",
              "      <td>0</td>\n",
              "      <td>0</td>\n",
              "      <td>0</td>\n",
              "      <td>0</td>\n",
              "      <td>0</td>\n",
              "      <td>0</td>\n",
              "      <td>0</td>\n",
              "      <td>0</td>\n",
              "      <td>0</td>\n",
              "      <td>0</td>\n",
              "      <td>0</td>\n",
              "      <td>0</td>\n",
              "      <td>0</td>\n",
              "      <td>0</td>\n",
              "      <td>0</td>\n",
              "      <td>0</td>\n",
              "      <td>0</td>\n",
              "      <td>0</td>\n",
              "      <td>0</td>\n",
              "      <td>0</td>\n",
              "      <td>0</td>\n",
              "      <td>0</td>\n",
              "      <td>0</td>\n",
              "      <td>0</td>\n",
              "      <td>0</td>\n",
              "      <td>...</td>\n",
              "      <td>46863</td>\n",
              "      <td>47742</td>\n",
              "      <td>48530</td>\n",
              "      <td>49191</td>\n",
              "      <td>50000</td>\n",
              "      <td>50637</td>\n",
              "      <td>51424</td>\n",
              "      <td>52004</td>\n",
              "      <td>52542</td>\n",
              "      <td>53003</td>\n",
              "      <td>53425</td>\n",
              "      <td>53814</td>\n",
              "      <td>54317</td>\n",
              "      <td>54827</td>\n",
              "      <td>55380</td>\n",
              "      <td>55755</td>\n",
              "      <td>56254</td>\n",
              "      <td>56572</td>\n",
              "      <td>57146</td>\n",
              "      <td>57727</td>\n",
              "      <td>58316</td>\n",
              "      <td>58316</td>\n",
              "      <td>58991</td>\n",
              "      <td>59438</td>\n",
              "      <td>59623</td>\n",
              "      <td>60283</td>\n",
              "      <td>61008</td>\n",
              "      <td>61705</td>\n",
              "      <td>62378</td>\n",
              "      <td>63033</td>\n",
              "      <td>63595</td>\n",
              "      <td>63971</td>\n",
              "      <td>64627</td>\n",
              "      <td>65334</td>\n",
              "      <td>65994</td>\n",
              "      <td>66635</td>\n",
              "      <td>67216</td>\n",
              "      <td>67690</td>\n",
              "      <td>67982</td>\n",
              "      <td>68568</td>\n",
              "    </tr>\n",
              "    <tr>\n",
              "      <th>2</th>\n",
              "      <td>NaN</td>\n",
              "      <td>Algeria</td>\n",
              "      <td>28.03390</td>\n",
              "      <td>1.659600</td>\n",
              "      <td>0</td>\n",
              "      <td>0</td>\n",
              "      <td>0</td>\n",
              "      <td>0</td>\n",
              "      <td>0</td>\n",
              "      <td>0</td>\n",
              "      <td>0</td>\n",
              "      <td>0</td>\n",
              "      <td>0</td>\n",
              "      <td>0</td>\n",
              "      <td>0</td>\n",
              "      <td>0</td>\n",
              "      <td>0</td>\n",
              "      <td>0</td>\n",
              "      <td>0</td>\n",
              "      <td>0</td>\n",
              "      <td>0</td>\n",
              "      <td>0</td>\n",
              "      <td>0</td>\n",
              "      <td>0</td>\n",
              "      <td>0</td>\n",
              "      <td>0</td>\n",
              "      <td>0</td>\n",
              "      <td>0</td>\n",
              "      <td>0</td>\n",
              "      <td>0</td>\n",
              "      <td>0</td>\n",
              "      <td>0</td>\n",
              "      <td>0</td>\n",
              "      <td>0</td>\n",
              "      <td>0</td>\n",
              "      <td>0</td>\n",
              "      <td>0</td>\n",
              "      <td>0</td>\n",
              "      <td>1</td>\n",
              "      <td>1</td>\n",
              "      <td>...</td>\n",
              "      <td>91121</td>\n",
              "      <td>91638</td>\n",
              "      <td>92102</td>\n",
              "      <td>92597</td>\n",
              "      <td>93065</td>\n",
              "      <td>93507</td>\n",
              "      <td>93933</td>\n",
              "      <td>94371</td>\n",
              "      <td>94781</td>\n",
              "      <td>95203</td>\n",
              "      <td>95659</td>\n",
              "      <td>96069</td>\n",
              "      <td>96549</td>\n",
              "      <td>97007</td>\n",
              "      <td>97441</td>\n",
              "      <td>97857</td>\n",
              "      <td>98249</td>\n",
              "      <td>98631</td>\n",
              "      <td>98988</td>\n",
              "      <td>99311</td>\n",
              "      <td>99610</td>\n",
              "      <td>99897</td>\n",
              "      <td>100159</td>\n",
              "      <td>100408</td>\n",
              "      <td>100645</td>\n",
              "      <td>100873</td>\n",
              "      <td>101120</td>\n",
              "      <td>101382</td>\n",
              "      <td>101657</td>\n",
              "      <td>101913</td>\n",
              "      <td>102144</td>\n",
              "      <td>102369</td>\n",
              "      <td>102641</td>\n",
              "      <td>102860</td>\n",
              "      <td>103127</td>\n",
              "      <td>103381</td>\n",
              "      <td>103611</td>\n",
              "      <td>103833</td>\n",
              "      <td>104092</td>\n",
              "      <td>104341</td>\n",
              "    </tr>\n",
              "    <tr>\n",
              "      <th>3</th>\n",
              "      <td>NaN</td>\n",
              "      <td>Andorra</td>\n",
              "      <td>42.50630</td>\n",
              "      <td>1.521800</td>\n",
              "      <td>0</td>\n",
              "      <td>0</td>\n",
              "      <td>0</td>\n",
              "      <td>0</td>\n",
              "      <td>0</td>\n",
              "      <td>0</td>\n",
              "      <td>0</td>\n",
              "      <td>0</td>\n",
              "      <td>0</td>\n",
              "      <td>0</td>\n",
              "      <td>0</td>\n",
              "      <td>0</td>\n",
              "      <td>0</td>\n",
              "      <td>0</td>\n",
              "      <td>0</td>\n",
              "      <td>0</td>\n",
              "      <td>0</td>\n",
              "      <td>0</td>\n",
              "      <td>0</td>\n",
              "      <td>0</td>\n",
              "      <td>0</td>\n",
              "      <td>0</td>\n",
              "      <td>0</td>\n",
              "      <td>0</td>\n",
              "      <td>0</td>\n",
              "      <td>0</td>\n",
              "      <td>0</td>\n",
              "      <td>0</td>\n",
              "      <td>0</td>\n",
              "      <td>0</td>\n",
              "      <td>0</td>\n",
              "      <td>0</td>\n",
              "      <td>0</td>\n",
              "      <td>0</td>\n",
              "      <td>0</td>\n",
              "      <td>0</td>\n",
              "      <td>...</td>\n",
              "      <td>7236</td>\n",
              "      <td>7288</td>\n",
              "      <td>7338</td>\n",
              "      <td>7382</td>\n",
              "      <td>7382</td>\n",
              "      <td>7446</td>\n",
              "      <td>7466</td>\n",
              "      <td>7519</td>\n",
              "      <td>7560</td>\n",
              "      <td>7577</td>\n",
              "      <td>7602</td>\n",
              "      <td>7633</td>\n",
              "      <td>7669</td>\n",
              "      <td>7699</td>\n",
              "      <td>7756</td>\n",
              "      <td>7806</td>\n",
              "      <td>7821</td>\n",
              "      <td>7875</td>\n",
              "      <td>7919</td>\n",
              "      <td>7983</td>\n",
              "      <td>8049</td>\n",
              "      <td>8117</td>\n",
              "      <td>8166</td>\n",
              "      <td>8192</td>\n",
              "      <td>8249</td>\n",
              "      <td>8308</td>\n",
              "      <td>8348</td>\n",
              "      <td>8348</td>\n",
              "      <td>8489</td>\n",
              "      <td>8586</td>\n",
              "      <td>8586</td>\n",
              "      <td>8586</td>\n",
              "      <td>8682</td>\n",
              "      <td>8818</td>\n",
              "      <td>8868</td>\n",
              "      <td>8946</td>\n",
              "      <td>9038</td>\n",
              "      <td>9083</td>\n",
              "      <td>9083</td>\n",
              "      <td>9194</td>\n",
              "    </tr>\n",
              "    <tr>\n",
              "      <th>4</th>\n",
              "      <td>NaN</td>\n",
              "      <td>Angola</td>\n",
              "      <td>-11.20270</td>\n",
              "      <td>17.873900</td>\n",
              "      <td>0</td>\n",
              "      <td>0</td>\n",
              "      <td>0</td>\n",
              "      <td>0</td>\n",
              "      <td>0</td>\n",
              "      <td>0</td>\n",
              "      <td>0</td>\n",
              "      <td>0</td>\n",
              "      <td>0</td>\n",
              "      <td>0</td>\n",
              "      <td>0</td>\n",
              "      <td>0</td>\n",
              "      <td>0</td>\n",
              "      <td>0</td>\n",
              "      <td>0</td>\n",
              "      <td>0</td>\n",
              "      <td>0</td>\n",
              "      <td>0</td>\n",
              "      <td>0</td>\n",
              "      <td>0</td>\n",
              "      <td>0</td>\n",
              "      <td>0</td>\n",
              "      <td>0</td>\n",
              "      <td>0</td>\n",
              "      <td>0</td>\n",
              "      <td>0</td>\n",
              "      <td>0</td>\n",
              "      <td>0</td>\n",
              "      <td>0</td>\n",
              "      <td>0</td>\n",
              "      <td>0</td>\n",
              "      <td>0</td>\n",
              "      <td>0</td>\n",
              "      <td>0</td>\n",
              "      <td>0</td>\n",
              "      <td>0</td>\n",
              "      <td>...</td>\n",
              "      <td>16061</td>\n",
              "      <td>16161</td>\n",
              "      <td>16188</td>\n",
              "      <td>16277</td>\n",
              "      <td>16362</td>\n",
              "      <td>16407</td>\n",
              "      <td>16484</td>\n",
              "      <td>16562</td>\n",
              "      <td>16626</td>\n",
              "      <td>16644</td>\n",
              "      <td>16686</td>\n",
              "      <td>16802</td>\n",
              "      <td>16931</td>\n",
              "      <td>17029</td>\n",
              "      <td>17099</td>\n",
              "      <td>17149</td>\n",
              "      <td>17240</td>\n",
              "      <td>17296</td>\n",
              "      <td>17371</td>\n",
              "      <td>17433</td>\n",
              "      <td>17553</td>\n",
              "      <td>17568</td>\n",
              "      <td>17608</td>\n",
              "      <td>17642</td>\n",
              "      <td>17684</td>\n",
              "      <td>17756</td>\n",
              "      <td>17864</td>\n",
              "      <td>17974</td>\n",
              "      <td>18066</td>\n",
              "      <td>18156</td>\n",
              "      <td>18193</td>\n",
              "      <td>18254</td>\n",
              "      <td>18343</td>\n",
              "      <td>18425</td>\n",
              "      <td>18613</td>\n",
              "      <td>18679</td>\n",
              "      <td>18765</td>\n",
              "      <td>18875</td>\n",
              "      <td>18926</td>\n",
              "      <td>19011</td>\n",
              "    </tr>\n",
              "  </tbody>\n",
              "</table>\n",
              "<p>5 rows × 368 columns</p>\n",
              "</div>"
            ],
            "text/plain": [
              "  Province/State Country/Region       Lat  ...  1/17/21  1/18/21  1/19/21\n",
              "0            NaN    Afghanistan  33.93911  ...    53984    54062    54141\n",
              "1            NaN        Albania  41.15330  ...    67690    67982    68568\n",
              "2            NaN        Algeria  28.03390  ...   103833   104092   104341\n",
              "3            NaN        Andorra  42.50630  ...     9083     9083     9194\n",
              "4            NaN         Angola -11.20270  ...    18875    18926    19011\n",
              "\n",
              "[5 rows x 368 columns]"
            ]
          },
          "metadata": {
            "tags": []
          },
          "execution_count": 129
        }
      ]
    },
    {
      "cell_type": "code",
      "metadata": {
        "colab": {
          "base_uri": "https://localhost:8080/"
        },
        "id": "5kgcW7OSLUrm",
        "outputId": "d48e7f65-d62a-41d5-8791-68462d052647"
      },
      "source": [
        "df.columns[4:]"
      ],
      "execution_count": 130,
      "outputs": [
        {
          "output_type": "execute_result",
          "data": {
            "text/plain": [
              "Index(['1/22/20', '1/23/20', '1/24/20', '1/25/20', '1/26/20', '1/27/20',\n",
              "       '1/28/20', '1/29/20', '1/30/20', '1/31/20',\n",
              "       ...\n",
              "       '1/10/21', '1/11/21', '1/12/21', '1/13/21', '1/14/21', '1/15/21',\n",
              "       '1/16/21', '1/17/21', '1/18/21', '1/19/21'],\n",
              "      dtype='object', length=364)"
            ]
          },
          "metadata": {
            "tags": []
          },
          "execution_count": 130
        }
      ]
    },
    {
      "cell_type": "code",
      "metadata": {
        "colab": {
          "base_uri": "https://localhost:8080/"
        },
        "id": "Q-FNYj8wK83p",
        "outputId": "7a101d42-47a5-4d6c-d1d5-64aad8a74bd8"
      },
      "source": [
        "df[df.columns[4:]].values.T"
      ],
      "execution_count": 131,
      "outputs": [
        {
          "output_type": "execute_result",
          "data": {
            "text/plain": [
              "array([[     0,      0,      0, ...,      0,      0,      0],\n",
              "       [     0,      0,      0, ...,      0,      0,      0],\n",
              "       [     0,      0,      0, ...,      0,      0,      0],\n",
              "       ...,\n",
              "       [ 53984,  67690, 103833, ...,   2112,  37605,  27203],\n",
              "       [ 54062,  67982, 104092, ...,   2113,  38207,  27892],\n",
              "       [ 54141,  68568, 104341, ...,   2115,  39515,  28675]])"
            ]
          },
          "metadata": {
            "tags": []
          },
          "execution_count": 131
        }
      ]
    },
    {
      "cell_type": "code",
      "metadata": {
        "colab": {
          "base_uri": "https://localhost:8080/"
        },
        "id": "rHu0CeQ2K85b",
        "outputId": "69c4baa7-f220-4db2-d4d4-fa7510f885fc"
      },
      "source": [
        "df[\"Country/Region\"].values"
      ],
      "execution_count": 132,
      "outputs": [
        {
          "output_type": "execute_result",
          "data": {
            "text/plain": [
              "array(['Afghanistan', 'Albania', 'Algeria', 'Andorra', 'Angola',\n",
              "       'Antigua and Barbuda', 'Argentina', 'Armenia', 'Australia',\n",
              "       'Australia', 'Australia', 'Australia', 'Australia', 'Australia',\n",
              "       'Australia', 'Australia', 'Austria', 'Azerbaijan', 'Bahamas',\n",
              "       'Bahrain', 'Bangladesh', 'Barbados', 'Belarus', 'Belgium',\n",
              "       'Belize', 'Benin', 'Bhutan', 'Bolivia', 'Bosnia and Herzegovina',\n",
              "       'Botswana', 'Brazil', 'Brunei', 'Bulgaria', 'Burkina Faso',\n",
              "       'Burma', 'Burundi', 'Cabo Verde', 'Cambodia', 'Cameroon', 'Canada',\n",
              "       'Canada', 'Canada', 'Canada', 'Canada', 'Canada', 'Canada',\n",
              "       'Canada', 'Canada', 'Canada', 'Canada', 'Canada', 'Canada',\n",
              "       'Canada', 'Canada', 'Canada', 'Central African Republic', 'Chad',\n",
              "       'Chile', 'China', 'China', 'China', 'China', 'China', 'China',\n",
              "       'China', 'China', 'China', 'China', 'China', 'China', 'China',\n",
              "       'China', 'China', 'China', 'China', 'China', 'China', 'China',\n",
              "       'China', 'China', 'China', 'China', 'China', 'China', 'China',\n",
              "       'China', 'China', 'China', 'China', 'China', 'China', 'Colombia',\n",
              "       'Comoros', 'Congo (Brazzaville)', 'Congo (Kinshasa)', 'Costa Rica',\n",
              "       \"Cote d'Ivoire\", 'Croatia', 'Cuba', 'Cyprus', 'Czechia', 'Denmark',\n",
              "       'Denmark', 'Denmark', 'Diamond Princess', 'Djibouti', 'Dominica',\n",
              "       'Dominican Republic', 'Ecuador', 'Egypt', 'El Salvador',\n",
              "       'Equatorial Guinea', 'Eritrea', 'Estonia', 'Eswatini', 'Ethiopia',\n",
              "       'Fiji', 'Finland', 'France', 'France', 'France', 'France',\n",
              "       'France', 'France', 'France', 'France', 'France', 'France',\n",
              "       'France', 'France', 'Gabon', 'Gambia', 'Georgia', 'Germany',\n",
              "       'Ghana', 'Greece', 'Grenada', 'Guatemala', 'Guinea',\n",
              "       'Guinea-Bissau', 'Guyana', 'Haiti', 'Holy See', 'Honduras',\n",
              "       'Hungary', 'Iceland', 'India', 'Indonesia', 'Iran', 'Iraq',\n",
              "       'Ireland', 'Israel', 'Italy', 'Jamaica', 'Japan', 'Jordan',\n",
              "       'Kazakhstan', 'Kenya', 'Korea, South', 'Kosovo', 'Kuwait',\n",
              "       'Kyrgyzstan', 'Laos', 'Latvia', 'Lebanon', 'Lesotho', 'Liberia',\n",
              "       'Libya', 'Liechtenstein', 'Lithuania', 'Luxembourg', 'MS Zaandam',\n",
              "       'Madagascar', 'Malawi', 'Malaysia', 'Maldives', 'Mali', 'Malta',\n",
              "       'Marshall Islands', 'Mauritania', 'Mauritius', 'Mexico', 'Moldova',\n",
              "       'Monaco', 'Mongolia', 'Montenegro', 'Morocco', 'Mozambique',\n",
              "       'Namibia', 'Nepal', 'Netherlands', 'Netherlands', 'Netherlands',\n",
              "       'Netherlands', 'Netherlands', 'New Zealand', 'Nicaragua', 'Niger',\n",
              "       'Nigeria', 'North Macedonia', 'Norway', 'Oman', 'Pakistan',\n",
              "       'Panama', 'Papua New Guinea', 'Paraguay', 'Peru', 'Philippines',\n",
              "       'Poland', 'Portugal', 'Qatar', 'Romania', 'Russia', 'Rwanda',\n",
              "       'Saint Kitts and Nevis', 'Saint Lucia',\n",
              "       'Saint Vincent and the Grenadines', 'Samoa', 'San Marino',\n",
              "       'Sao Tome and Principe', 'Saudi Arabia', 'Senegal', 'Serbia',\n",
              "       'Seychelles', 'Sierra Leone', 'Singapore', 'Slovakia', 'Slovenia',\n",
              "       'Solomon Islands', 'Somalia', 'South Africa', 'South Sudan',\n",
              "       'Spain', 'Sri Lanka', 'Sudan', 'Suriname', 'Sweden', 'Switzerland',\n",
              "       'Syria', 'Taiwan*', 'Tajikistan', 'Tanzania', 'Thailand',\n",
              "       'Timor-Leste', 'Togo', 'Trinidad and Tobago', 'Tunisia', 'Turkey',\n",
              "       'US', 'Uganda', 'Ukraine', 'United Arab Emirates',\n",
              "       'United Kingdom', 'United Kingdom', 'United Kingdom',\n",
              "       'United Kingdom', 'United Kingdom', 'United Kingdom',\n",
              "       'United Kingdom', 'United Kingdom', 'United Kingdom',\n",
              "       'United Kingdom', 'United Kingdom', 'Uruguay', 'Uzbekistan',\n",
              "       'Vanuatu', 'Venezuela', 'Vietnam', 'West Bank and Gaza', 'Yemen',\n",
              "       'Zambia', 'Zimbabwe'], dtype=object)"
            ]
          },
          "metadata": {
            "tags": []
          },
          "execution_count": 132
        }
      ]
    },
    {
      "cell_type": "code",
      "metadata": {
        "id": "lmJpMBNbK89N"
      },
      "source": [
        "df_new=pd.DataFrame(df[df.columns[4:]].values.T,columns=df[\"Country/Region\"].values,index=df.columns[4:])"
      ],
      "execution_count": 133,
      "outputs": []
    },
    {
      "cell_type": "code",
      "metadata": {
        "colab": {
          "base_uri": "https://localhost:8080/",
          "height": 323
        },
        "id": "UN1x7FlKK8_Z",
        "outputId": "48ce18ee-b31b-4a87-c1fa-b17fca421cb3"
      },
      "source": [
        "df_new.index.name =\"Date\"\r\n",
        "df_new.head()"
      ],
      "execution_count": 134,
      "outputs": [
        {
          "output_type": "execute_result",
          "data": {
            "text/html": [
              "<div>\n",
              "<style scoped>\n",
              "    .dataframe tbody tr th:only-of-type {\n",
              "        vertical-align: middle;\n",
              "    }\n",
              "\n",
              "    .dataframe tbody tr th {\n",
              "        vertical-align: top;\n",
              "    }\n",
              "\n",
              "    .dataframe thead th {\n",
              "        text-align: right;\n",
              "    }\n",
              "</style>\n",
              "<table border=\"1\" class=\"dataframe\">\n",
              "  <thead>\n",
              "    <tr style=\"text-align: right;\">\n",
              "      <th></th>\n",
              "      <th>Afghanistan</th>\n",
              "      <th>Albania</th>\n",
              "      <th>Algeria</th>\n",
              "      <th>Andorra</th>\n",
              "      <th>Angola</th>\n",
              "      <th>Antigua and Barbuda</th>\n",
              "      <th>Argentina</th>\n",
              "      <th>Armenia</th>\n",
              "      <th>Australia</th>\n",
              "      <th>Australia</th>\n",
              "      <th>Australia</th>\n",
              "      <th>Australia</th>\n",
              "      <th>Australia</th>\n",
              "      <th>Australia</th>\n",
              "      <th>Australia</th>\n",
              "      <th>Australia</th>\n",
              "      <th>Austria</th>\n",
              "      <th>Azerbaijan</th>\n",
              "      <th>Bahamas</th>\n",
              "      <th>Bahrain</th>\n",
              "      <th>Bangladesh</th>\n",
              "      <th>Barbados</th>\n",
              "      <th>Belarus</th>\n",
              "      <th>Belgium</th>\n",
              "      <th>Belize</th>\n",
              "      <th>Benin</th>\n",
              "      <th>Bhutan</th>\n",
              "      <th>Bolivia</th>\n",
              "      <th>Bosnia and Herzegovina</th>\n",
              "      <th>Botswana</th>\n",
              "      <th>Brazil</th>\n",
              "      <th>Brunei</th>\n",
              "      <th>Bulgaria</th>\n",
              "      <th>Burkina Faso</th>\n",
              "      <th>Burma</th>\n",
              "      <th>Burundi</th>\n",
              "      <th>Cabo Verde</th>\n",
              "      <th>Cambodia</th>\n",
              "      <th>Cameroon</th>\n",
              "      <th>Canada</th>\n",
              "      <th>...</th>\n",
              "      <th>Spain</th>\n",
              "      <th>Sri Lanka</th>\n",
              "      <th>Sudan</th>\n",
              "      <th>Suriname</th>\n",
              "      <th>Sweden</th>\n",
              "      <th>Switzerland</th>\n",
              "      <th>Syria</th>\n",
              "      <th>Taiwan*</th>\n",
              "      <th>Tajikistan</th>\n",
              "      <th>Tanzania</th>\n",
              "      <th>Thailand</th>\n",
              "      <th>Timor-Leste</th>\n",
              "      <th>Togo</th>\n",
              "      <th>Trinidad and Tobago</th>\n",
              "      <th>Tunisia</th>\n",
              "      <th>Turkey</th>\n",
              "      <th>US</th>\n",
              "      <th>Uganda</th>\n",
              "      <th>Ukraine</th>\n",
              "      <th>United Arab Emirates</th>\n",
              "      <th>United Kingdom</th>\n",
              "      <th>United Kingdom</th>\n",
              "      <th>United Kingdom</th>\n",
              "      <th>United Kingdom</th>\n",
              "      <th>United Kingdom</th>\n",
              "      <th>United Kingdom</th>\n",
              "      <th>United Kingdom</th>\n",
              "      <th>United Kingdom</th>\n",
              "      <th>United Kingdom</th>\n",
              "      <th>United Kingdom</th>\n",
              "      <th>United Kingdom</th>\n",
              "      <th>Uruguay</th>\n",
              "      <th>Uzbekistan</th>\n",
              "      <th>Vanuatu</th>\n",
              "      <th>Venezuela</th>\n",
              "      <th>Vietnam</th>\n",
              "      <th>West Bank and Gaza</th>\n",
              "      <th>Yemen</th>\n",
              "      <th>Zambia</th>\n",
              "      <th>Zimbabwe</th>\n",
              "    </tr>\n",
              "    <tr>\n",
              "      <th>Date</th>\n",
              "      <th></th>\n",
              "      <th></th>\n",
              "      <th></th>\n",
              "      <th></th>\n",
              "      <th></th>\n",
              "      <th></th>\n",
              "      <th></th>\n",
              "      <th></th>\n",
              "      <th></th>\n",
              "      <th></th>\n",
              "      <th></th>\n",
              "      <th></th>\n",
              "      <th></th>\n",
              "      <th></th>\n",
              "      <th></th>\n",
              "      <th></th>\n",
              "      <th></th>\n",
              "      <th></th>\n",
              "      <th></th>\n",
              "      <th></th>\n",
              "      <th></th>\n",
              "      <th></th>\n",
              "      <th></th>\n",
              "      <th></th>\n",
              "      <th></th>\n",
              "      <th></th>\n",
              "      <th></th>\n",
              "      <th></th>\n",
              "      <th></th>\n",
              "      <th></th>\n",
              "      <th></th>\n",
              "      <th></th>\n",
              "      <th></th>\n",
              "      <th></th>\n",
              "      <th></th>\n",
              "      <th></th>\n",
              "      <th></th>\n",
              "      <th></th>\n",
              "      <th></th>\n",
              "      <th></th>\n",
              "      <th></th>\n",
              "      <th></th>\n",
              "      <th></th>\n",
              "      <th></th>\n",
              "      <th></th>\n",
              "      <th></th>\n",
              "      <th></th>\n",
              "      <th></th>\n",
              "      <th></th>\n",
              "      <th></th>\n",
              "      <th></th>\n",
              "      <th></th>\n",
              "      <th></th>\n",
              "      <th></th>\n",
              "      <th></th>\n",
              "      <th></th>\n",
              "      <th></th>\n",
              "      <th></th>\n",
              "      <th></th>\n",
              "      <th></th>\n",
              "      <th></th>\n",
              "      <th></th>\n",
              "      <th></th>\n",
              "      <th></th>\n",
              "      <th></th>\n",
              "      <th></th>\n",
              "      <th></th>\n",
              "      <th></th>\n",
              "      <th></th>\n",
              "      <th></th>\n",
              "      <th></th>\n",
              "      <th></th>\n",
              "      <th></th>\n",
              "      <th></th>\n",
              "      <th></th>\n",
              "      <th></th>\n",
              "      <th></th>\n",
              "      <th></th>\n",
              "      <th></th>\n",
              "      <th></th>\n",
              "      <th></th>\n",
              "    </tr>\n",
              "  </thead>\n",
              "  <tbody>\n",
              "    <tr>\n",
              "      <th>1/22/20</th>\n",
              "      <td>0</td>\n",
              "      <td>0</td>\n",
              "      <td>0</td>\n",
              "      <td>0</td>\n",
              "      <td>0</td>\n",
              "      <td>0</td>\n",
              "      <td>0</td>\n",
              "      <td>0</td>\n",
              "      <td>0</td>\n",
              "      <td>0</td>\n",
              "      <td>0</td>\n",
              "      <td>0</td>\n",
              "      <td>0</td>\n",
              "      <td>0</td>\n",
              "      <td>0</td>\n",
              "      <td>0</td>\n",
              "      <td>0</td>\n",
              "      <td>0</td>\n",
              "      <td>0</td>\n",
              "      <td>0</td>\n",
              "      <td>0</td>\n",
              "      <td>0</td>\n",
              "      <td>0</td>\n",
              "      <td>0</td>\n",
              "      <td>0</td>\n",
              "      <td>0</td>\n",
              "      <td>0</td>\n",
              "      <td>0</td>\n",
              "      <td>0</td>\n",
              "      <td>0</td>\n",
              "      <td>0</td>\n",
              "      <td>0</td>\n",
              "      <td>0</td>\n",
              "      <td>0</td>\n",
              "      <td>0</td>\n",
              "      <td>0</td>\n",
              "      <td>0</td>\n",
              "      <td>0</td>\n",
              "      <td>0</td>\n",
              "      <td>0</td>\n",
              "      <td>...</td>\n",
              "      <td>0</td>\n",
              "      <td>0</td>\n",
              "      <td>0</td>\n",
              "      <td>0</td>\n",
              "      <td>0</td>\n",
              "      <td>0</td>\n",
              "      <td>0</td>\n",
              "      <td>1</td>\n",
              "      <td>0</td>\n",
              "      <td>0</td>\n",
              "      <td>4</td>\n",
              "      <td>0</td>\n",
              "      <td>0</td>\n",
              "      <td>0</td>\n",
              "      <td>0</td>\n",
              "      <td>0</td>\n",
              "      <td>1</td>\n",
              "      <td>0</td>\n",
              "      <td>0</td>\n",
              "      <td>0</td>\n",
              "      <td>0</td>\n",
              "      <td>0</td>\n",
              "      <td>0</td>\n",
              "      <td>0</td>\n",
              "      <td>0</td>\n",
              "      <td>0</td>\n",
              "      <td>0</td>\n",
              "      <td>0</td>\n",
              "      <td>0</td>\n",
              "      <td>0</td>\n",
              "      <td>0</td>\n",
              "      <td>0</td>\n",
              "      <td>0</td>\n",
              "      <td>0</td>\n",
              "      <td>0</td>\n",
              "      <td>0</td>\n",
              "      <td>0</td>\n",
              "      <td>0</td>\n",
              "      <td>0</td>\n",
              "      <td>0</td>\n",
              "    </tr>\n",
              "    <tr>\n",
              "      <th>1/23/20</th>\n",
              "      <td>0</td>\n",
              "      <td>0</td>\n",
              "      <td>0</td>\n",
              "      <td>0</td>\n",
              "      <td>0</td>\n",
              "      <td>0</td>\n",
              "      <td>0</td>\n",
              "      <td>0</td>\n",
              "      <td>0</td>\n",
              "      <td>0</td>\n",
              "      <td>0</td>\n",
              "      <td>0</td>\n",
              "      <td>0</td>\n",
              "      <td>0</td>\n",
              "      <td>0</td>\n",
              "      <td>0</td>\n",
              "      <td>0</td>\n",
              "      <td>0</td>\n",
              "      <td>0</td>\n",
              "      <td>0</td>\n",
              "      <td>0</td>\n",
              "      <td>0</td>\n",
              "      <td>0</td>\n",
              "      <td>0</td>\n",
              "      <td>0</td>\n",
              "      <td>0</td>\n",
              "      <td>0</td>\n",
              "      <td>0</td>\n",
              "      <td>0</td>\n",
              "      <td>0</td>\n",
              "      <td>0</td>\n",
              "      <td>0</td>\n",
              "      <td>0</td>\n",
              "      <td>0</td>\n",
              "      <td>0</td>\n",
              "      <td>0</td>\n",
              "      <td>0</td>\n",
              "      <td>0</td>\n",
              "      <td>0</td>\n",
              "      <td>0</td>\n",
              "      <td>...</td>\n",
              "      <td>0</td>\n",
              "      <td>0</td>\n",
              "      <td>0</td>\n",
              "      <td>0</td>\n",
              "      <td>0</td>\n",
              "      <td>0</td>\n",
              "      <td>0</td>\n",
              "      <td>1</td>\n",
              "      <td>0</td>\n",
              "      <td>0</td>\n",
              "      <td>4</td>\n",
              "      <td>0</td>\n",
              "      <td>0</td>\n",
              "      <td>0</td>\n",
              "      <td>0</td>\n",
              "      <td>0</td>\n",
              "      <td>1</td>\n",
              "      <td>0</td>\n",
              "      <td>0</td>\n",
              "      <td>0</td>\n",
              "      <td>0</td>\n",
              "      <td>0</td>\n",
              "      <td>0</td>\n",
              "      <td>0</td>\n",
              "      <td>0</td>\n",
              "      <td>0</td>\n",
              "      <td>0</td>\n",
              "      <td>0</td>\n",
              "      <td>0</td>\n",
              "      <td>0</td>\n",
              "      <td>0</td>\n",
              "      <td>0</td>\n",
              "      <td>0</td>\n",
              "      <td>0</td>\n",
              "      <td>0</td>\n",
              "      <td>2</td>\n",
              "      <td>0</td>\n",
              "      <td>0</td>\n",
              "      <td>0</td>\n",
              "      <td>0</td>\n",
              "    </tr>\n",
              "    <tr>\n",
              "      <th>1/24/20</th>\n",
              "      <td>0</td>\n",
              "      <td>0</td>\n",
              "      <td>0</td>\n",
              "      <td>0</td>\n",
              "      <td>0</td>\n",
              "      <td>0</td>\n",
              "      <td>0</td>\n",
              "      <td>0</td>\n",
              "      <td>0</td>\n",
              "      <td>0</td>\n",
              "      <td>0</td>\n",
              "      <td>0</td>\n",
              "      <td>0</td>\n",
              "      <td>0</td>\n",
              "      <td>0</td>\n",
              "      <td>0</td>\n",
              "      <td>0</td>\n",
              "      <td>0</td>\n",
              "      <td>0</td>\n",
              "      <td>0</td>\n",
              "      <td>0</td>\n",
              "      <td>0</td>\n",
              "      <td>0</td>\n",
              "      <td>0</td>\n",
              "      <td>0</td>\n",
              "      <td>0</td>\n",
              "      <td>0</td>\n",
              "      <td>0</td>\n",
              "      <td>0</td>\n",
              "      <td>0</td>\n",
              "      <td>0</td>\n",
              "      <td>0</td>\n",
              "      <td>0</td>\n",
              "      <td>0</td>\n",
              "      <td>0</td>\n",
              "      <td>0</td>\n",
              "      <td>0</td>\n",
              "      <td>0</td>\n",
              "      <td>0</td>\n",
              "      <td>0</td>\n",
              "      <td>...</td>\n",
              "      <td>0</td>\n",
              "      <td>0</td>\n",
              "      <td>0</td>\n",
              "      <td>0</td>\n",
              "      <td>0</td>\n",
              "      <td>0</td>\n",
              "      <td>0</td>\n",
              "      <td>3</td>\n",
              "      <td>0</td>\n",
              "      <td>0</td>\n",
              "      <td>5</td>\n",
              "      <td>0</td>\n",
              "      <td>0</td>\n",
              "      <td>0</td>\n",
              "      <td>0</td>\n",
              "      <td>0</td>\n",
              "      <td>2</td>\n",
              "      <td>0</td>\n",
              "      <td>0</td>\n",
              "      <td>0</td>\n",
              "      <td>0</td>\n",
              "      <td>0</td>\n",
              "      <td>0</td>\n",
              "      <td>0</td>\n",
              "      <td>0</td>\n",
              "      <td>0</td>\n",
              "      <td>0</td>\n",
              "      <td>0</td>\n",
              "      <td>0</td>\n",
              "      <td>0</td>\n",
              "      <td>0</td>\n",
              "      <td>0</td>\n",
              "      <td>0</td>\n",
              "      <td>0</td>\n",
              "      <td>0</td>\n",
              "      <td>2</td>\n",
              "      <td>0</td>\n",
              "      <td>0</td>\n",
              "      <td>0</td>\n",
              "      <td>0</td>\n",
              "    </tr>\n",
              "    <tr>\n",
              "      <th>1/25/20</th>\n",
              "      <td>0</td>\n",
              "      <td>0</td>\n",
              "      <td>0</td>\n",
              "      <td>0</td>\n",
              "      <td>0</td>\n",
              "      <td>0</td>\n",
              "      <td>0</td>\n",
              "      <td>0</td>\n",
              "      <td>0</td>\n",
              "      <td>0</td>\n",
              "      <td>0</td>\n",
              "      <td>0</td>\n",
              "      <td>0</td>\n",
              "      <td>0</td>\n",
              "      <td>0</td>\n",
              "      <td>0</td>\n",
              "      <td>0</td>\n",
              "      <td>0</td>\n",
              "      <td>0</td>\n",
              "      <td>0</td>\n",
              "      <td>0</td>\n",
              "      <td>0</td>\n",
              "      <td>0</td>\n",
              "      <td>0</td>\n",
              "      <td>0</td>\n",
              "      <td>0</td>\n",
              "      <td>0</td>\n",
              "      <td>0</td>\n",
              "      <td>0</td>\n",
              "      <td>0</td>\n",
              "      <td>0</td>\n",
              "      <td>0</td>\n",
              "      <td>0</td>\n",
              "      <td>0</td>\n",
              "      <td>0</td>\n",
              "      <td>0</td>\n",
              "      <td>0</td>\n",
              "      <td>0</td>\n",
              "      <td>0</td>\n",
              "      <td>0</td>\n",
              "      <td>...</td>\n",
              "      <td>0</td>\n",
              "      <td>0</td>\n",
              "      <td>0</td>\n",
              "      <td>0</td>\n",
              "      <td>0</td>\n",
              "      <td>0</td>\n",
              "      <td>0</td>\n",
              "      <td>3</td>\n",
              "      <td>0</td>\n",
              "      <td>0</td>\n",
              "      <td>6</td>\n",
              "      <td>0</td>\n",
              "      <td>0</td>\n",
              "      <td>0</td>\n",
              "      <td>0</td>\n",
              "      <td>0</td>\n",
              "      <td>2</td>\n",
              "      <td>0</td>\n",
              "      <td>0</td>\n",
              "      <td>0</td>\n",
              "      <td>0</td>\n",
              "      <td>0</td>\n",
              "      <td>0</td>\n",
              "      <td>0</td>\n",
              "      <td>0</td>\n",
              "      <td>0</td>\n",
              "      <td>0</td>\n",
              "      <td>0</td>\n",
              "      <td>0</td>\n",
              "      <td>0</td>\n",
              "      <td>0</td>\n",
              "      <td>0</td>\n",
              "      <td>0</td>\n",
              "      <td>0</td>\n",
              "      <td>0</td>\n",
              "      <td>2</td>\n",
              "      <td>0</td>\n",
              "      <td>0</td>\n",
              "      <td>0</td>\n",
              "      <td>0</td>\n",
              "    </tr>\n",
              "    <tr>\n",
              "      <th>1/26/20</th>\n",
              "      <td>0</td>\n",
              "      <td>0</td>\n",
              "      <td>0</td>\n",
              "      <td>0</td>\n",
              "      <td>0</td>\n",
              "      <td>0</td>\n",
              "      <td>0</td>\n",
              "      <td>0</td>\n",
              "      <td>0</td>\n",
              "      <td>3</td>\n",
              "      <td>0</td>\n",
              "      <td>0</td>\n",
              "      <td>0</td>\n",
              "      <td>0</td>\n",
              "      <td>1</td>\n",
              "      <td>0</td>\n",
              "      <td>0</td>\n",
              "      <td>0</td>\n",
              "      <td>0</td>\n",
              "      <td>0</td>\n",
              "      <td>0</td>\n",
              "      <td>0</td>\n",
              "      <td>0</td>\n",
              "      <td>0</td>\n",
              "      <td>0</td>\n",
              "      <td>0</td>\n",
              "      <td>0</td>\n",
              "      <td>0</td>\n",
              "      <td>0</td>\n",
              "      <td>0</td>\n",
              "      <td>0</td>\n",
              "      <td>0</td>\n",
              "      <td>0</td>\n",
              "      <td>0</td>\n",
              "      <td>0</td>\n",
              "      <td>0</td>\n",
              "      <td>0</td>\n",
              "      <td>0</td>\n",
              "      <td>0</td>\n",
              "      <td>0</td>\n",
              "      <td>...</td>\n",
              "      <td>0</td>\n",
              "      <td>0</td>\n",
              "      <td>0</td>\n",
              "      <td>0</td>\n",
              "      <td>0</td>\n",
              "      <td>0</td>\n",
              "      <td>0</td>\n",
              "      <td>4</td>\n",
              "      <td>0</td>\n",
              "      <td>0</td>\n",
              "      <td>8</td>\n",
              "      <td>0</td>\n",
              "      <td>0</td>\n",
              "      <td>0</td>\n",
              "      <td>0</td>\n",
              "      <td>0</td>\n",
              "      <td>5</td>\n",
              "      <td>0</td>\n",
              "      <td>0</td>\n",
              "      <td>0</td>\n",
              "      <td>0</td>\n",
              "      <td>0</td>\n",
              "      <td>0</td>\n",
              "      <td>0</td>\n",
              "      <td>0</td>\n",
              "      <td>0</td>\n",
              "      <td>0</td>\n",
              "      <td>0</td>\n",
              "      <td>0</td>\n",
              "      <td>0</td>\n",
              "      <td>0</td>\n",
              "      <td>0</td>\n",
              "      <td>0</td>\n",
              "      <td>0</td>\n",
              "      <td>0</td>\n",
              "      <td>2</td>\n",
              "      <td>0</td>\n",
              "      <td>0</td>\n",
              "      <td>0</td>\n",
              "      <td>0</td>\n",
              "    </tr>\n",
              "  </tbody>\n",
              "</table>\n",
              "<p>5 rows × 272 columns</p>\n",
              "</div>"
            ],
            "text/plain": [
              "         Afghanistan  Albania  Algeria  ...  Yemen  Zambia  Zimbabwe\n",
              "Date                                    ...                         \n",
              "1/22/20            0        0        0  ...      0       0         0\n",
              "1/23/20            0        0        0  ...      0       0         0\n",
              "1/24/20            0        0        0  ...      0       0         0\n",
              "1/25/20            0        0        0  ...      0       0         0\n",
              "1/26/20            0        0        0  ...      0       0         0\n",
              "\n",
              "[5 rows x 272 columns]"
            ]
          },
          "metadata": {
            "tags": []
          },
          "execution_count": 134
        }
      ]
    },
    {
      "cell_type": "code",
      "metadata": {
        "colab": {
          "base_uri": "https://localhost:8080/"
        },
        "id": "0GOrIVUXN2AE",
        "outputId": "8c4f10a0-d150-42a6-c863-2b6d4fceb00d"
      },
      "source": [
        "df_new.index"
      ],
      "execution_count": 135,
      "outputs": [
        {
          "output_type": "execute_result",
          "data": {
            "text/plain": [
              "Index(['1/22/20', '1/23/20', '1/24/20', '1/25/20', '1/26/20', '1/27/20',\n",
              "       '1/28/20', '1/29/20', '1/30/20', '1/31/20',\n",
              "       ...\n",
              "       '1/10/21', '1/11/21', '1/12/21', '1/13/21', '1/14/21', '1/15/21',\n",
              "       '1/16/21', '1/17/21', '1/18/21', '1/19/21'],\n",
              "      dtype='object', name='Date', length=364)"
            ]
          },
          "metadata": {
            "tags": []
          },
          "execution_count": 135
        }
      ]
    },
    {
      "cell_type": "markdown",
      "metadata": {
        "id": "0SRZRoe3RSpl"
      },
      "source": [
        "Créer une pandas serie formée de la date et le nombre de cas de Coronavirus 2019 confirmés au Maroc\r\n"
      ]
    },
    {
      "cell_type": "code",
      "metadata": {
        "colab": {
          "base_uri": "https://localhost:8080/"
        },
        "id": "ir_5ofmfK9Cf",
        "outputId": "2ac582ea-8e5f-4aea-e86d-5b98b478b5c9"
      },
      "source": [
        "ts = pd.Series(data = df_new[\"Morocco\"].values, index = df_new.index)\r\n",
        "ts"
      ],
      "execution_count": 136,
      "outputs": [
        {
          "output_type": "execute_result",
          "data": {
            "text/plain": [
              "Date\n",
              "1/22/20         0\n",
              "1/23/20         0\n",
              "1/24/20         0\n",
              "1/25/20         0\n",
              "1/26/20         0\n",
              "            ...  \n",
              "1/15/21    457625\n",
              "1/16/21    458865\n",
              "1/17/21    459671\n",
              "1/18/21    460144\n",
              "1/19/21    461390\n",
              "Length: 364, dtype: int64"
            ]
          },
          "metadata": {
            "tags": []
          },
          "execution_count": 136
        }
      ]
    },
    {
      "cell_type": "code",
      "metadata": {
        "colab": {
          "base_uri": "https://localhost:8080/",
          "height": 297
        },
        "id": "koDcEwdzK9EL",
        "outputId": "08906ec9-b846-4f1f-9da9-17fc1f7a6d40"
      },
      "source": [
        "ts.plot()"
      ],
      "execution_count": 137,
      "outputs": [
        {
          "output_type": "execute_result",
          "data": {
            "text/plain": [
              "<matplotlib.axes._subplots.AxesSubplot at 0x7faeed577390>"
            ]
          },
          "metadata": {
            "tags": []
          },
          "execution_count": 137
        },
        {
          "output_type": "display_data",
          "data": {
            "image/png": "[encoded data removed]",
            "text/plain": [
              "<Figure size 432x288 with 1 Axes>"
            ]
          },
          "metadata": {
            "tags": [],
            "needs_background": "light"
          }
        }
      ]
    },
    {
      "cell_type": "markdown",
      "metadata": {
        "id": "jkpDObSkQ095"
      },
      "source": [
        "Tester si le résidu de notre série temporelle est il un bruit blanc\r\n"
      ]
    },
    {
      "cell_type": "code",
      "metadata": {
        "colab": {
          "base_uri": "https://localhost:8080/"
        },
        "id": "5UGGIWB0K9Gx",
        "outputId": "d04ae7ef-939a-426d-d645-2eec5fd066c7"
      },
      "source": [
        "import statsmodels.api as sm\r\n",
        "res = sm.stats.acorr_ljungbox(ts, lags=[5])\r\n",
        "print(f\"Resultat du test Ljung-Box p-value: {  res[1][0] }\")"
      ],
      "execution_count": 138,
      "outputs": [
        {
          "output_type": "stream",
          "text": [
            "Resultat du test Ljung-Box p-value: 0.0\n"
          ],
          "name": "stdout"
        },
        {
          "output_type": "stream",
          "text": [
            "/usr/local/lib/python3.6/dist-packages/statsmodels/stats/diagnostic.py:559: FutureWarning: The value returned will change to a single DataFrame after 0.12 is released.  Set return_df to True to use to return a DataFrame now.  Set return_df to False to silence this warning.\n",
            "  warnings.warn(msg, FutureWarning)\n"
          ],
          "name": "stderr"
        }
      ]
    },
    {
      "cell_type": "markdown",
      "metadata": {
        "id": "KaF38mZ8PZf3"
      },
      "source": [
        "Comme p_value est <<<< 0.05 alors on peut rejeter l'hypothèse H0, du coup le résidu de notre série n'est pas un bruit blanc"
      ]
    },
    {
      "cell_type": "markdown",
      "metadata": {
        "id": "HQZ97PErREFw"
      },
      "source": [
        "Tester si notre série temporelle est elle stationnaire?\r\n"
      ]
    },
    {
      "cell_type": "code",
      "metadata": {
        "colab": {
          "base_uri": "https://localhost:8080/"
        },
        "id": "Bur6NlZmK9Io",
        "outputId": "2d7efda3-cbbb-46e9-ebba-78ae17998b73"
      },
      "source": [
        "from statsmodels.tsa.stattools import adfuller\r\n",
        "\r\n",
        "res = adfuller(ts)\r\n",
        "print(\"the p-value of this test  is \",res[1])"
      ],
      "execution_count": 139,
      "outputs": [
        {
          "output_type": "stream",
          "text": [
            "the p-value of this test  is  0.9035993119072898\n"
          ],
          "name": "stdout"
        }
      ]
    },
    {
      "cell_type": "markdown",
      "metadata": {
        "id": "7vfB2uW9XjC8"
      },
      "source": [
        "Puisque la p-value du test de stationnarité Augmented Dickey-Fuller Test (ADF) est >>>> 0.05, alors on ne peut  pas rejeter l'hypothèse H0 qui suppose que la  série temporelle est non stationnaire donc notre série temporelle est non stationnaire"
      ]
    },
    {
      "cell_type": "code",
      "metadata": {
        "colab": {
          "base_uri": "https://localhost:8080/"
        },
        "id": "N6_vgMbpK9L0",
        "outputId": "1258f2f3-799e-4b54-b4fc-3b2567feaa3e"
      },
      "source": [
        "from statsmodels.tsa.stattools import kpss\r\n",
        "res=kpss(ts)\r\n",
        "print(\"the p-value of this test  is \",res[1])"
      ],
      "execution_count": 140,
      "outputs": [
        {
          "output_type": "stream",
          "text": [
            "the p-value of this test  is  0.01\n"
          ],
          "name": "stdout"
        },
        {
          "output_type": "stream",
          "text": [
            "/usr/local/lib/python3.6/dist-packages/statsmodels/tsa/stattools.py:1850: FutureWarning: The behavior of using nlags=None will change in release 0.13.Currently nlags=None is the same as nlags=\"legacy\", and so a sample-size lag length is used. After the next release, the default will change to be the same as nlags=\"auto\" which uses an automatic lag length selection method. To silence this warning, either use \"auto\" or \"legacy\"\n",
            "  warnings.warn(msg, FutureWarning)\n",
            "/usr/local/lib/python3.6/dist-packages/statsmodels/tsa/stattools.py:1882: InterpolationWarning: The test statistic is outside of the range of p-values available in the\n",
            "look-up table. The actual p-value is smaller than the p-value returned.\n",
            "\n",
            "  warn_msg.format(direction=\"smaller\"), InterpolationWarning\n"
          ],
          "name": "stderr"
        }
      ]
    },
    {
      "cell_type": "markdown",
      "metadata": {
        "id": "uGXYURn9Ypmo"
      },
      "source": [
        "Puisque la p-value du test de stationnarité Kwiatkowski-Phillips-Schmidt-Shin (KPSS) est << 0.05, alors on  peut rejeter l'hypothèse H0 qui suppose que la  série temporelle est  stationnaire donc notre série temporelle est non stationnaire"
      ]
    },
    {
      "cell_type": "markdown",
      "metadata": {
        "id": "twAMQDUV_ihD"
      },
      "source": [
        "Autocorrelation Function Plot"
      ]
    },
    {
      "cell_type": "code",
      "metadata": {
        "colab": {
          "base_uri": "https://localhost:8080/",
          "height": 545
        },
        "id": "18Z_ULtV4Y4C",
        "outputId": "1217589e-ac46-45e4-aa6a-245e98ac1f04"
      },
      "source": [
        "from statsmodels.graphics.tsaplots import plot_acf\r\n",
        "plot_acf(ts)"
      ],
      "execution_count": 141,
      "outputs": [
        {
          "output_type": "execute_result",
          "data": {
            "image/png": "[encoded data removed]",
            "text/plain": [
              "<Figure size 432x288 with 1 Axes>"
            ]
          },
          "metadata": {
            "tags": []
          },
          "execution_count": 141
        },
        {
          "output_type": "display_data",
          "data": {
            "image/png": "[encoded data removed]",
            "text/plain": [
              "<Figure size 432x288 with 1 Axes>"
            ]
          },
          "metadata": {
            "tags": [],
            "needs_background": "light"
          }
        }
      ]
    },
    {
      "cell_type": "markdown",
      "metadata": {
        "id": "VCGHbmbgAa5B"
      },
      "source": [
        "la décroissance lente vers 0 de l'autocorrelation function nous confirme le fait que notre série temporelle est non stationnaire"
      ]
    },
    {
      "cell_type": "markdown",
      "metadata": {
        "id": "Emkg8tVpBgUf"
      },
      "source": [
        "Partial Autocorrelation Function Plot"
      ]
    },
    {
      "cell_type": "code",
      "metadata": {
        "colab": {
          "base_uri": "https://localhost:8080/",
          "height": 545
        },
        "id": "jmMIJrb-K9Nb",
        "outputId": "1bb62f40-38b1-4e61-860e-b7926bf93e42"
      },
      "source": [
        "from statsmodels.graphics.tsaplots import plot_pacf\r\n",
        "plot_pacf(ts)"
      ],
      "execution_count": 142,
      "outputs": [
        {
          "output_type": "execute_result",
          "data": {
            "image/png": "[encoded data removed]",
            "text/plain": [
              "<Figure size 432x288 with 1 Axes>"
            ]
          },
          "metadata": {
            "tags": []
          },
          "execution_count": 142
        },
        {
          "output_type": "display_data",
          "data": {
            "image/png": "[encoded data removed]",
            "text/plain": [
              "<Figure size 432x288 with 1 Axes>"
            ]
          },
          "metadata": {
            "tags": [],
            "needs_background": "light"
          }
        }
      ]
    },
    {
      "cell_type": "markdown",
      "metadata": {
        "id": "OxtkrTSFQKyp"
      },
      "source": [
        "Puisque le PACF baisse brusquement après seulement 1 retards, on peut dire  qu'un modèle autorégressif d'ordre 1 AR(1) peut être approprié pour notre série temporelle"
      ]
    },
    {
      "cell_type": "markdown",
      "metadata": {
        "id": "0V1ZskG4ND9E"
      },
      "source": [
        "Faire des prédictions  à l'aide de la régression linéaire en considérant ts_t comme dependent variable et ts_(t-1) comme independent variable( c'est équivalent à construire manuellement un modèle AR(1))"
      ]
    },
    {
      "cell_type": "code",
      "metadata": {
        "colab": {
          "base_uri": "https://localhost:8080/"
        },
        "id": "KVQaHWNMqzTb",
        "outputId": "85937fca-dcdf-49e3-a81b-c51107387546"
      },
      "source": [
        "confirmed_cases_shifted=df_new[\"Morocco\"].shift()\r\n",
        "confirmed_cases_shifted"
      ],
      "execution_count": 143,
      "outputs": [
        {
          "output_type": "execute_result",
          "data": {
            "text/plain": [
              "Date\n",
              "1/22/20         NaN\n",
              "1/23/20         0.0\n",
              "1/24/20         0.0\n",
              "1/25/20         0.0\n",
              "1/26/20         0.0\n",
              "             ...   \n",
              "1/15/21    456334.0\n",
              "1/16/21    457625.0\n",
              "1/17/21    458865.0\n",
              "1/18/21    459671.0\n",
              "1/19/21    460144.0\n",
              "Name: Morocco, Length: 364, dtype: float64"
            ]
          },
          "metadata": {
            "tags": []
          },
          "execution_count": 143
        }
      ]
    },
    {
      "cell_type": "code",
      "metadata": {
        "colab": {
          "base_uri": "https://localhost:8080/",
          "height": 223
        },
        "id": "DK0aDbzEvaCQ",
        "outputId": "e90ea034-15b6-4a03-c50d-325d8150476e"
      },
      "source": [
        "frame={\"confirmed_cases\":ts,\"confirmed_cases_shifted\":confirmed_cases_shifted}\r\n",
        "confirmed_cases_Morocco=pd.DataFrame(frame)\r\n",
        "confirmed_cases_Morocco.head()"
      ],
      "execution_count": 144,
      "outputs": [
        {
          "output_type": "execute_result",
          "data": {
            "text/html": [
              "<div>\n",
              "<style scoped>\n",
              "    .dataframe tbody tr th:only-of-type {\n",
              "        vertical-align: middle;\n",
              "    }\n",
              "\n",
              "    .dataframe tbody tr th {\n",
              "        vertical-align: top;\n",
              "    }\n",
              "\n",
              "    .dataframe thead th {\n",
              "        text-align: right;\n",
              "    }\n",
              "</style>\n",
              "<table border=\"1\" class=\"dataframe\">\n",
              "  <thead>\n",
              "    <tr style=\"text-align: right;\">\n",
              "      <th></th>\n",
              "      <th>confirmed_cases</th>\n",
              "      <th>confirmed_cases_shifted</th>\n",
              "    </tr>\n",
              "    <tr>\n",
              "      <th>Date</th>\n",
              "      <th></th>\n",
              "      <th></th>\n",
              "    </tr>\n",
              "  </thead>\n",
              "  <tbody>\n",
              "    <tr>\n",
              "      <th>1/22/20</th>\n",
              "      <td>0</td>\n",
              "      <td>NaN</td>\n",
              "    </tr>\n",
              "    <tr>\n",
              "      <th>1/23/20</th>\n",
              "      <td>0</td>\n",
              "      <td>0.0</td>\n",
              "    </tr>\n",
              "    <tr>\n",
              "      <th>1/24/20</th>\n",
              "      <td>0</td>\n",
              "      <td>0.0</td>\n",
              "    </tr>\n",
              "    <tr>\n",
              "      <th>1/25/20</th>\n",
              "      <td>0</td>\n",
              "      <td>0.0</td>\n",
              "    </tr>\n",
              "    <tr>\n",
              "      <th>1/26/20</th>\n",
              "      <td>0</td>\n",
              "      <td>0.0</td>\n",
              "    </tr>\n",
              "  </tbody>\n",
              "</table>\n",
              "</div>"
            ],
            "text/plain": [
              "         confirmed_cases  confirmed_cases_shifted\n",
              "Date                                             \n",
              "1/22/20                0                      NaN\n",
              "1/23/20                0                      0.0\n",
              "1/24/20                0                      0.0\n",
              "1/25/20                0                      0.0\n",
              "1/26/20                0                      0.0"
            ]
          },
          "metadata": {
            "tags": []
          },
          "execution_count": 144
        }
      ]
    },
    {
      "cell_type": "code",
      "metadata": {
        "colab": {
          "base_uri": "https://localhost:8080/",
          "height": 223
        },
        "id": "eofp980Iu0k4",
        "outputId": "7bbd283d-122f-4953-a049-4a985aac12b1"
      },
      "source": [
        "confirmed_cases_Morocco.dropna(inplace=True)\r\n",
        "confirmed_cases_Morocco.head()"
      ],
      "execution_count": 145,
      "outputs": [
        {
          "output_type": "execute_result",
          "data": {
            "text/html": [
              "<div>\n",
              "<style scoped>\n",
              "    .dataframe tbody tr th:only-of-type {\n",
              "        vertical-align: middle;\n",
              "    }\n",
              "\n",
              "    .dataframe tbody tr th {\n",
              "        vertical-align: top;\n",
              "    }\n",
              "\n",
              "    .dataframe thead th {\n",
              "        text-align: right;\n",
              "    }\n",
              "</style>\n",
              "<table border=\"1\" class=\"dataframe\">\n",
              "  <thead>\n",
              "    <tr style=\"text-align: right;\">\n",
              "      <th></th>\n",
              "      <th>confirmed_cases</th>\n",
              "      <th>confirmed_cases_shifted</th>\n",
              "    </tr>\n",
              "    <tr>\n",
              "      <th>Date</th>\n",
              "      <th></th>\n",
              "      <th></th>\n",
              "    </tr>\n",
              "  </thead>\n",
              "  <tbody>\n",
              "    <tr>\n",
              "      <th>1/23/20</th>\n",
              "      <td>0</td>\n",
              "      <td>0.0</td>\n",
              "    </tr>\n",
              "    <tr>\n",
              "      <th>1/24/20</th>\n",
              "      <td>0</td>\n",
              "      <td>0.0</td>\n",
              "    </tr>\n",
              "    <tr>\n",
              "      <th>1/25/20</th>\n",
              "      <td>0</td>\n",
              "      <td>0.0</td>\n",
              "    </tr>\n",
              "    <tr>\n",
              "      <th>1/26/20</th>\n",
              "      <td>0</td>\n",
              "      <td>0.0</td>\n",
              "    </tr>\n",
              "    <tr>\n",
              "      <th>1/27/20</th>\n",
              "      <td>0</td>\n",
              "      <td>0.0</td>\n",
              "    </tr>\n",
              "  </tbody>\n",
              "</table>\n",
              "</div>"
            ],
            "text/plain": [
              "         confirmed_cases  confirmed_cases_shifted\n",
              "Date                                             \n",
              "1/23/20                0                      0.0\n",
              "1/24/20                0                      0.0\n",
              "1/25/20                0                      0.0\n",
              "1/26/20                0                      0.0\n",
              "1/27/20                0                      0.0"
            ]
          },
          "metadata": {
            "tags": []
          },
          "execution_count": 145
        }
      ]
    },
    {
      "cell_type": "code",
      "metadata": {
        "id": "gUgtSLS-w_uu"
      },
      "source": [
        "X=confirmed_cases_Morocco[\"confirmed_cases\"].values\r\n",
        "Y=confirmed_cases_Morocco[\"confirmed_cases_shifted\"].values"
      ],
      "execution_count": 146,
      "outputs": []
    },
    {
      "cell_type": "code",
      "metadata": {
        "id": "ITlH1FQExWFU"
      },
      "source": [
        "train_size=int(0.80*len(X))\r\n",
        "X_train,X_test=X[0:train_size],X[train_size:len(X)]\r\n",
        "Y_train,Y_test=Y[0:train_size],Y[train_size:len(X)]"
      ],
      "execution_count": 147,
      "outputs": []
    },
    {
      "cell_type": "code",
      "metadata": {
        "colab": {
          "base_uri": "https://localhost:8080/"
        },
        "id": "wNwDYFeqxwh3",
        "outputId": "363f1b8c-f364-4f79-bab3-b256dec1718a"
      },
      "source": [
        "from sklearn.linear_model import LinearRegression\r\n",
        "X_train=X_train.reshape(-1,1)\r\n",
        "X_test=X_test.reshape(-1,1)\r\n",
        "lr=LinearRegression()\r\n",
        "lr.fit(X_train,Y_train)\r\n",
        "print(lr.coef_,lr.intercept_)\r\n",
        "y_pred=lr.predict(X_test)\r\n",
        "y_pred"
      ],
      "execution_count": 148,
      "outputs": [
        {
          "output_type": "stream",
          "text": [
            "[0.98094596] -76.63370677596686\n"
          ],
          "name": "stdout"
        },
        {
          "output_type": "execute_result",
          "data": {
            "text/plain": [
              "array([251811.65210896, 254921.25081773, 260035.90307878, 265392.84899315,\n",
              "       271469.80924577, 276879.72624226, 282642.78378611, 287514.16144785,\n",
              "       290468.77069417, 295780.59309416, 301068.87279099, 305541.00544502,\n",
              "       310157.33715589, 314769.7450829 , 318672.92907728, 321210.6362885 ,\n",
              "       325133.43920218, 330017.56916147, 334115.96140287, 338620.46527374,\n",
              "       342948.39887092, 346984.99151653, 349469.72764565, 352910.88609056,\n",
              "       357174.07725406, 361523.59166247, 365443.45173826, 369482.98722176,\n",
              "       372346.36849333, 373848.19676561, 376692.94006385, 380710.89473613,\n",
              "       383992.15898875, 386969.32999226, 389944.53910383, 391918.20238523,\n",
              "       393112.01362453, 395851.79570452, 399138.94563294, 401862.05163153,\n",
              "       404458.61560065, 407237.63551924, 409100.45190661, 409960.74151784,\n",
              "       412556.32454099, 415073.43188695, 417672.93869396, 419957.56184624,\n",
              "       422281.42283711, 423769.51786588, 424701.41653255, 426820.25981676,\n",
              "       428922.42701956, 430747.96746026, 432491.1084399 , 433639.79616481,\n",
              "       434625.64685955, 435269.14741253, 436874.95595709, 438485.66923147,\n",
              "       440052.23993744, 441565.83956129, 442954.85904761, 443832.8056862 ,\n",
              "       444280.1170462 , 445065.85476409, 446307.73235567, 447562.36224479,\n",
              "       448828.76348549, 450045.13648198, 450835.7789297 , 451299.7663711 ,\n",
              "       452522.02504338])"
            ]
          },
          "metadata": {
            "tags": []
          },
          "execution_count": 148
        }
      ]
    },
    {
      "cell_type": "code",
      "metadata": {
        "colab": {
          "base_uri": "https://localhost:8080/"
        },
        "id": "ujIkcQRjz4aa",
        "outputId": "fc023269-11f1-4d87-b720-93dc97a90bbb"
      },
      "source": [
        "from sklearn.metrics import mean_squared_error\r\n",
        "import numpy as np\r\n",
        "RMSE=np.sqrt(mean_squared_error(Y_test,y_pred))\r\n",
        "RMSE"
      ],
      "execution_count": 149,
      "outputs": [
        {
          "output_type": "execute_result",
          "data": {
            "text/plain": [
              "5268.491740626091"
            ]
          },
          "metadata": {
            "tags": []
          },
          "execution_count": 149
        }
      ]
    },
    {
      "cell_type": "code",
      "metadata": {
        "colab": {
          "base_uri": "https://localhost:8080/",
          "height": 265
        },
        "id": "Z02VdPXU9Pw0",
        "outputId": "a2469c31-f5ab-441c-99ea-169468550f4e"
      },
      "source": [
        "import matplotlib.pyplot as plt\r\n",
        "plt.plot(Y_test[-20:],label=\"Actual Values\")\r\n",
        "plt.plot(y_pred[-20:],label=\"Predicted Values\")\r\n",
        "plt.legend()\r\n",
        "plt.show()"
      ],
      "execution_count": 150,
      "outputs": [
        {
          "output_type": "display_data",
          "data": {
            "image/png": "[encoded data removed]",
            "text/plain": [
              "<Figure size 432x288 with 1 Axes>"
            ]
          },
          "metadata": {
            "tags": [],
            "needs_background": "light"
          }
        }
      ]
    },
    {
      "cell_type": "markdown",
      "metadata": {
        "id": "Sp8lkyuZP6wO"
      },
      "source": [
        "Différencier notre série temporelle pour la rendre stationnaire"
      ]
    },
    {
      "cell_type": "code",
      "metadata": {
        "colab": {
          "base_uri": "https://localhost:8080/",
          "height": 297
        },
        "id": "1QNjRiSB6x1X",
        "outputId": "50b61422-d285-41c4-c529-328ab0f1fa13"
      },
      "source": [
        "ts_diff=ts.diff()\r\n",
        "ts_diff.plot()"
      ],
      "execution_count": 151,
      "outputs": [
        {
          "output_type": "execute_result",
          "data": {
            "text/plain": [
              "<matplotlib.axes._subplots.AxesSubplot at 0x7faeea2b89e8>"
            ]
          },
          "metadata": {
            "tags": []
          },
          "execution_count": 151
        },
        {
          "output_type": "display_data",
          "data": {
            "image/png": "[encoded data removed]",
            "text/plain": [
              "<Figure size 432x288 with 1 Axes>"
            ]
          },
          "metadata": {
            "tags": [],
            "needs_background": "light"
          }
        }
      ]
    },
    {
      "cell_type": "code",
      "metadata": {
        "colab": {
          "base_uri": "https://localhost:8080/"
        },
        "id": "Xw45RZ4AHmfr",
        "outputId": "bad7fe73-7f46-44a2-a089-bc6244cbb3e8"
      },
      "source": [
        "ts_diff.isna()"
      ],
      "execution_count": 152,
      "outputs": [
        {
          "output_type": "execute_result",
          "data": {
            "text/plain": [
              "Date\n",
              "1/22/20     True\n",
              "1/23/20    False\n",
              "1/24/20    False\n",
              "1/25/20    False\n",
              "1/26/20    False\n",
              "           ...  \n",
              "1/15/21    False\n",
              "1/16/21    False\n",
              "1/17/21    False\n",
              "1/18/21    False\n",
              "1/19/21    False\n",
              "Length: 364, dtype: bool"
            ]
          },
          "metadata": {
            "tags": []
          },
          "execution_count": 152
        }
      ]
    },
    {
      "cell_type": "code",
      "metadata": {
        "colab": {
          "base_uri": "https://localhost:8080/"
        },
        "id": "YI3Rj0cdHjC7",
        "outputId": "c9cb4616-34cb-4b1a-c2f1-f194cf1d1106"
      },
      "source": [
        "ts_diff = ts_diff[-ts_diff.isna()]\r\n",
        "ts_diff   "
      ],
      "execution_count": 153,
      "outputs": [
        {
          "output_type": "execute_result",
          "data": {
            "text/plain": [
              "Date\n",
              "1/23/20       0.0\n",
              "1/24/20       0.0\n",
              "1/25/20       0.0\n",
              "1/26/20       0.0\n",
              "1/27/20       0.0\n",
              "            ...  \n",
              "1/15/21    1291.0\n",
              "1/16/21    1240.0\n",
              "1/17/21     806.0\n",
              "1/18/21     473.0\n",
              "1/19/21    1246.0\n",
              "Length: 363, dtype: float64"
            ]
          },
          "metadata": {
            "tags": []
          },
          "execution_count": 153
        }
      ]
    },
    {
      "cell_type": "code",
      "metadata": {
        "colab": {
          "base_uri": "https://localhost:8080/",
          "height": 809
        },
        "id": "vefHIUsn8Enx",
        "outputId": "22e3cf3a-9aad-42b1-b0db-81bcf210ab83"
      },
      "source": [
        "plot_acf(ts_diff)\r\n",
        "plot_pacf(ts_diff)"
      ],
      "execution_count": 154,
      "outputs": [
        {
          "output_type": "execute_result",
          "data": {
            "image/png": "[encoded data removed]",
            "text/plain": [
              "<Figure size 432x288 with 1 Axes>"
            ]
          },
          "metadata": {
            "tags": []
          },
          "execution_count": 154
        },
        {
          "output_type": "display_data",
          "data": {
            "image/png": "[encoded data removed]",
            "text/plain": [
              "<Figure size 432x288 with 1 Axes>"
            ]
          },
          "metadata": {
            "tags": [],
            "needs_background": "light"
          }
        },
        {
          "output_type": "display_data",
          "data": {
            "image/png": "[encoded data removed]",
            "text/plain": [
              "<Figure size 432x288 with 1 Axes>"
            ]
          },
          "metadata": {
            "tags": [],
            "needs_background": "light"
          }
        }
      ]
    },
    {
      "cell_type": "code",
      "metadata": {
        "colab": {
          "base_uri": "https://localhost:8080/",
          "height": 297
        },
        "id": "Aesx4Ncg8OQt",
        "outputId": "dde34439-6671-4183-e67c-a6adf3446815"
      },
      "source": [
        "ts_diff2=ts_diff.diff()\r\n",
        "ts_diff2.plot()"
      ],
      "execution_count": 155,
      "outputs": [
        {
          "output_type": "execute_result",
          "data": {
            "text/plain": [
              "<matplotlib.axes._subplots.AxesSubplot at 0x7faeea194400>"
            ]
          },
          "metadata": {
            "tags": []
          },
          "execution_count": 155
        },
        {
          "output_type": "display_data",
          "data": {
            "image/png": "[encoded data removed]",
            "text/plain": [
              "<Figure size 432x288 with 1 Axes>"
            ]
          },
          "metadata": {
            "tags": [],
            "needs_background": "light"
          }
        }
      ]
    },
    {
      "cell_type": "code",
      "metadata": {
        "colab": {
          "base_uri": "https://localhost:8080/",
          "height": 809
        },
        "id": "rjsVesU2Ixaf",
        "outputId": "fb4753f7-bcbd-493e-aa13-91397407ba5d"
      },
      "source": [
        "ts_diff2 = ts_diff2[-ts_diff2.isna()] \r\n",
        "plot_acf(ts_diff2)\r\n",
        "plot_pacf(ts_diff2)"
      ],
      "execution_count": 156,
      "outputs": [
        {
          "output_type": "execute_result",
          "data": {
            "image/png": "[encoded data removed]",
            "text/plain": [
              "<Figure size 432x288 with 1 Axes>"
            ]
          },
          "metadata": {
            "tags": []
          },
          "execution_count": 156
        },
        {
          "output_type": "display_data",
          "data": {
            "image/png": "[encoded data removed]",
            "text/plain": [
              "<Figure size 432x288 with 1 Axes>"
            ]
          },
          "metadata": {
            "tags": [],
            "needs_background": "light"
          }
        },
        {
          "output_type": "display_data",
          "data": {
            "image/png": "[encoded data removed]",
            "text/plain": [
              "<Figure size 432x288 with 1 Axes>"
            ]
          },
          "metadata": {
            "tags": [],
            "needs_background": "light"
          }
        }
      ]
    },
    {
      "cell_type": "markdown",
      "metadata": {
        "id": "tKY4rcp3QMPW"
      },
      "source": [
        "Split data et faire des prédictions à l'aide du modèle ARMA"
      ]
    },
    {
      "cell_type": "code",
      "metadata": {
        "id": "BmwXVAAHuEdP"
      },
      "source": [
        "ts_train=ts[:int(0.80*len(ts))]\r\n",
        "ts_test=ts[int(0.80*len(ts)):]"
      ],
      "execution_count": 157,
      "outputs": []
    },
    {
      "cell_type": "code",
      "metadata": {
        "colab": {
          "base_uri": "https://localhost:8080/",
          "height": 710
        },
        "id": "RcpjvTNiqkLp",
        "outputId": "98156211-85eb-463c-d664-1343b0bb2778"
      },
      "source": [
        "modelARMA=ARMA(ts_train,order=(1,0))\r\n",
        "model_fit=modelARMA.fit()\r\n",
        "model_fit.summary()"
      ],
      "execution_count": 158,
      "outputs": [
        {
          "output_type": "stream",
          "text": [
            "/usr/local/lib/python3.6/dist-packages/statsmodels/tsa/arima_model.py:472: FutureWarning: \n",
            "statsmodels.tsa.arima_model.ARMA and statsmodels.tsa.arima_model.ARIMA have\n",
            "been deprecated in favor of statsmodels.tsa.arima.model.ARIMA (note the .\n",
            "between arima and model) and\n",
            "statsmodels.tsa.SARIMAX. These will be removed after the 0.12 release.\n",
            "\n",
            "statsmodels.tsa.arima.model.ARIMA makes use of the statespace framework and\n",
            "is both well tested and maintained.\n",
            "\n",
            "To silence this warning and continue using ARMA and ARIMA until they are\n",
            "removed, use:\n",
            "\n",
            "import warnings\n",
            "warnings.filterwarnings('ignore', 'statsmodels.tsa.arima_model.ARMA',\n",
            "                        FutureWarning)\n",
            "warnings.filterwarnings('ignore', 'statsmodels.tsa.arima_model.ARIMA',\n",
            "                        FutureWarning)\n",
            "\n",
            "  warnings.warn(ARIMA_DEPRECATION_WARN, FutureWarning)\n",
            "/usr/local/lib/python3.6/dist-packages/statsmodels/tsa/base/tsa_model.py:527: ValueWarning: No frequency information was provided, so inferred frequency D will be used.\n",
            "  % freq, ValueWarning)\n",
            "/usr/local/lib/python3.6/dist-packages/statsmodels/tsa/arima_model.py:1521: RuntimeWarning: invalid value encountered in sqrt\n",
            "  return np.sqrt(np.diag(-inv(hess)))\n"
          ],
          "name": "stderr"
        },
        {
          "output_type": "execute_result",
          "data": {
            "text/html": [
              "<table class=\"simpletable\">\n",
              "<caption>ARMA Model Results</caption>\n",
              "<tr>\n",
              "  <th>Dep. Variable:</th>         <td>y</td>        <th>  No. Observations:  </th>    <td>291</td>   \n",
              "</tr>\n",
              "<tr>\n",
              "  <th>Model:</th>            <td>ARMA(1, 0)</td>    <th>  Log Likelihood     </th> <td>-2553.448</td>\n",
              "</tr>\n",
              "<tr>\n",
              "  <th>Method:</th>             <td>css-mle</td>     <th>  S.D. of innovations</th> <td>1513.749</td> \n",
              "</tr>\n",
              "<tr>\n",
              "  <th>Date:</th>          <td>Wed, 27 Jan 2021</td> <th>  AIC                </th> <td>5112.895</td> \n",
              "</tr>\n",
              "<tr>\n",
              "  <th>Time:</th>              <td>14:35:36</td>     <th>  BIC                </th> <td>5123.915</td> \n",
              "</tr>\n",
              "<tr>\n",
              "  <th>Sample:</th>           <td>01-22-2020</td>    <th>  HQIC               </th> <td>5117.310</td> \n",
              "</tr>\n",
              "<tr>\n",
              "  <th></th>                 <td>- 11-07-2020</td>   <th>                     </th>     <td> </td>    \n",
              "</tr>\n",
              "</table>\n",
              "<table class=\"simpletable\">\n",
              "<tr>\n",
              "     <td></td>        <th>coef</th>     <th>std err</th>      <th>z</th>      <th>P>|z|</th>  <th>[0.025</th>    <th>0.975]</th>  \n",
              "</tr>\n",
              "<tr>\n",
              "  <th>const</th>   <td> 4.147e+04</td> <td>      nan</td> <td>      nan</td> <td>   nan</td> <td>      nan</td> <td>      nan</td>\n",
              "</tr>\n",
              "<tr>\n",
              "  <th>ar.L1.y</th> <td>    1.0000</td> <td>      nan</td> <td>      nan</td> <td>   nan</td> <td>      nan</td> <td>      nan</td>\n",
              "</tr>\n",
              "</table>\n",
              "<table class=\"simpletable\">\n",
              "<caption>Roots</caption>\n",
              "<tr>\n",
              "    <td></td>   <th>            Real</th>  <th>         Imaginary</th> <th>         Modulus</th>  <th>        Frequency</th>\n",
              "</tr>\n",
              "<tr>\n",
              "  <th>AR.1</th> <td>           1.0000</td> <td>          +0.0000j</td> <td>           1.0000</td> <td>           0.0000</td>\n",
              "</tr>\n",
              "</table>"
            ],
            "text/plain": [
              "<class 'statsmodels.iolib.summary.Summary'>\n",
              "\"\"\"\n",
              "                              ARMA Model Results                              \n",
              "==============================================================================\n",
              "Dep. Variable:                      y   No. Observations:                  291\n",
              "Model:                     ARMA(1, 0)   Log Likelihood               -2553.448\n",
              "Method:                       css-mle   S.D. of innovations           1513.749\n",
              "Date:                Wed, 27 Jan 2021   AIC                           5112.895\n",
              "Time:                        14:35:36   BIC                           5123.915\n",
              "Sample:                    01-22-2020   HQIC                          5117.310\n",
              "                         - 11-07-2020                                         \n",
              "==============================================================================\n",
              "                 coef    std err          z      P>|z|      [0.025      0.975]\n",
              "------------------------------------------------------------------------------\n",
              "const       4.147e+04        nan        nan        nan         nan         nan\n",
              "ar.L1.y        1.0000        nan        nan        nan         nan         nan\n",
              "                                    Roots                                    \n",
              "=============================================================================\n",
              "                  Real          Imaginary           Modulus         Frequency\n",
              "-----------------------------------------------------------------------------\n",
              "AR.1            1.0000           +0.0000j            1.0000            0.0000\n",
              "-----------------------------------------------------------------------------\n",
              "\"\"\""
            ]
          },
          "metadata": {
            "tags": []
          },
          "execution_count": 158
        }
      ]
    },
    {
      "cell_type": "code",
      "metadata": {
        "colab": {
          "base_uri": "https://localhost:8080/"
        },
        "id": "R7NtrN68xq-s",
        "outputId": "1639ca7a-7335-4b1b-a4d3-32f141c64bf0"
      },
      "source": [
        "stardate=ts_test.index[0]\r\n",
        "enddate=ts_test.index[-1]\r\n",
        "predictions=model_fit.predict(stardate,enddate)\r\n",
        "predictions"
      ],
      "execution_count": 159,
      "outputs": [
        {
          "output_type": "execute_result",
          "data": {
            "text/plain": [
              "2020-11-08    252184.999630\n",
              "2020-11-09    252184.999261\n",
              "2020-11-10    252184.998891\n",
              "2020-11-11    252184.998522\n",
              "2020-11-12    252184.998152\n",
              "                  ...      \n",
              "2021-01-15    252184.974501\n",
              "2021-01-16    252184.974131\n",
              "2021-01-17    252184.973761\n",
              "2021-01-18    252184.973392\n",
              "2021-01-19    252184.973022\n",
              "Freq: D, Length: 73, dtype: float64"
            ]
          },
          "metadata": {
            "tags": []
          },
          "execution_count": 159
        }
      ]
    },
    {
      "cell_type": "code",
      "metadata": {
        "colab": {
          "base_uri": "https://localhost:8080/"
        },
        "id": "nX7UE2why1e-",
        "outputId": "6cfc759a-943e-4b6f-9e12-ecffc4dfee82"
      },
      "source": [
        "RMSE_ARMA=np.sqrt(mean_squared_error(ts_test,predictions))\r\n",
        "RMSE_ARMA"
      ],
      "execution_count": 165,
      "outputs": [
        {
          "output_type": "execute_result",
          "data": {
            "text/plain": [
              "147647.13762925574"
            ]
          },
          "metadata": {
            "tags": []
          },
          "execution_count": 165
        }
      ]
    },
    {
      "cell_type": "markdown",
      "metadata": {
        "id": "GauTZvmgQYv0"
      },
      "source": [
        "faire des prédictions à l'aide du modèle ARIMA"
      ]
    },
    {
      "cell_type": "markdown",
      "metadata": {
        "id": "-W80NeW7Qd3q"
      },
      "source": [
        "chercher l'ordre d'ARIMA qui donne la plus petite valeur de AIC\r\n"
      ]
    },
    {
      "cell_type": "code",
      "metadata": {
        "colab": {
          "base_uri": "https://localhost:8080/",
          "height": 1000
        },
        "id": "SHml1er8z9Lm",
        "outputId": "dafe023c-c750-49aa-c520-d8511d1fbded"
      },
      "source": [
        "step_wisefit=auto_arima(ts,trace=True,suppress_warnings=True)\r\n",
        "step_wisefit.summary()"
      ],
      "execution_count": 161,
      "outputs": [
        {
          "output_type": "stream",
          "text": [
            "Performing stepwise search to minimize aic\n",
            " ARIMA(2,2,2)(0,0,0)[0]             : AIC=5433.892, Time=0.32 sec\n",
            " ARIMA(0,2,0)(0,0,0)[0]             : AIC=5525.132, Time=0.02 sec\n",
            " ARIMA(1,2,0)(0,0,0)[0]             : AIC=5520.303, Time=0.03 sec\n",
            " ARIMA(0,2,1)(0,0,0)[0]             : AIC=5487.163, Time=0.08 sec\n",
            " ARIMA(1,2,2)(0,0,0)[0]             : AIC=5432.723, Time=0.25 sec\n",
            " ARIMA(0,2,2)(0,0,0)[0]             : AIC=5432.944, Time=0.16 sec\n",
            " ARIMA(1,2,1)(0,0,0)[0]             : AIC=5455.139, Time=0.19 sec\n",
            " ARIMA(1,2,3)(0,0,0)[0]             : AIC=5398.026, Time=0.66 sec\n",
            " ARIMA(0,2,3)(0,0,0)[0]             : AIC=5432.063, Time=0.23 sec\n",
            " ARIMA(2,2,3)(0,0,0)[0]             : AIC=5395.807, Time=0.93 sec\n",
            " ARIMA(3,2,3)(0,0,0)[0]             : AIC=5361.089, Time=0.99 sec\n",
            " ARIMA(3,2,2)(0,0,0)[0]             : AIC=inf, Time=0.61 sec\n",
            " ARIMA(4,2,3)(0,0,0)[0]             : AIC=5318.937, Time=1.07 sec\n",
            " ARIMA(4,2,2)(0,0,0)[0]             : AIC=5267.776, Time=0.88 sec\n",
            " ARIMA(4,2,1)(0,0,0)[0]             : AIC=5407.956, Time=0.31 sec\n",
            " ARIMA(5,2,2)(0,0,0)[0]             : AIC=5230.363, Time=0.82 sec\n",
            " ARIMA(5,2,1)(0,0,0)[0]             : AIC=5334.653, Time=0.39 sec\n",
            " ARIMA(5,2,3)(0,0,0)[0]             : AIC=5224.017, Time=0.89 sec\n",
            " ARIMA(5,2,4)(0,0,0)[0]             : AIC=5188.869, Time=1.31 sec\n",
            " ARIMA(4,2,4)(0,0,0)[0]             : AIC=5260.699, Time=1.39 sec\n",
            " ARIMA(5,2,5)(0,0,0)[0]             : AIC=5183.697, Time=1.35 sec\n",
            " ARIMA(4,2,5)(0,0,0)[0]             : AIC=5250.350, Time=1.40 sec\n",
            " ARIMA(5,2,5)(0,0,0)[0] intercept   : AIC=5185.952, Time=1.83 sec\n",
            "\n",
            "Best model:  ARIMA(5,2,5)(0,0,0)[0]          \n",
            "Total fit time: 16.130 seconds\n"
          ],
          "name": "stdout"
        },
        {
          "output_type": "execute_result",
          "data": {
            "text/html": [
              "<table class=\"simpletable\">\n",
              "<caption>SARIMAX Results</caption>\n",
              "<tr>\n",
              "  <th>Dep. Variable:</th>           <td>y</td>        <th>  No. Observations:  </th>    <td>364</td>   \n",
              "</tr>\n",
              "<tr>\n",
              "  <th>Model:</th>           <td>SARIMAX(5, 2, 5)</td> <th>  Log Likelihood     </th> <td>-2580.848</td>\n",
              "</tr>\n",
              "<tr>\n",
              "  <th>Date:</th>            <td>Wed, 27 Jan 2021</td> <th>  AIC                </th> <td>5183.697</td> \n",
              "</tr>\n",
              "<tr>\n",
              "  <th>Time:</th>                <td>14:35:52</td>     <th>  BIC                </th> <td>5226.505</td> \n",
              "</tr>\n",
              "<tr>\n",
              "  <th>Sample:</th>                  <td>0</td>        <th>  HQIC               </th> <td>5200.714</td> \n",
              "</tr>\n",
              "<tr>\n",
              "  <th></th>                      <td> - 364</td>      <th>                     </th>     <td> </td>    \n",
              "</tr>\n",
              "<tr>\n",
              "  <th>Covariance Type:</th>        <td>opg</td>       <th>                     </th>     <td> </td>    \n",
              "</tr>\n",
              "</table>\n",
              "<table class=\"simpletable\">\n",
              "<tr>\n",
              "     <td></td>       <th>coef</th>     <th>std err</th>      <th>z</th>      <th>P>|z|</th>  <th>[0.025</th>    <th>0.975]</th>  \n",
              "</tr>\n",
              "<tr>\n",
              "  <th>ar.L1</th>  <td>    0.2444</td> <td>    0.139</td> <td>    1.759</td> <td> 0.079</td> <td>   -0.028</td> <td>    0.517</td>\n",
              "</tr>\n",
              "<tr>\n",
              "  <th>ar.L2</th>  <td>   -0.9937</td> <td>    0.111</td> <td>   -8.915</td> <td> 0.000</td> <td>   -1.212</td> <td>   -0.775</td>\n",
              "</tr>\n",
              "<tr>\n",
              "  <th>ar.L3</th>  <td>    0.0013</td> <td>    0.193</td> <td>    0.007</td> <td> 0.995</td> <td>   -0.377</td> <td>    0.380</td>\n",
              "</tr>\n",
              "<tr>\n",
              "  <th>ar.L4</th>  <td>   -0.5401</td> <td>    0.110</td> <td>   -4.912</td> <td> 0.000</td> <td>   -0.756</td> <td>   -0.325</td>\n",
              "</tr>\n",
              "<tr>\n",
              "  <th>ar.L5</th>  <td>   -0.5280</td> <td>    0.130</td> <td>   -4.062</td> <td> 0.000</td> <td>   -0.783</td> <td>   -0.273</td>\n",
              "</tr>\n",
              "<tr>\n",
              "  <th>ma.L1</th>  <td>   -0.8254</td> <td>    0.165</td> <td>   -5.014</td> <td> 0.000</td> <td>   -1.148</td> <td>   -0.503</td>\n",
              "</tr>\n",
              "<tr>\n",
              "  <th>ma.L2</th>  <td>    1.2173</td> <td>    0.187</td> <td>    6.516</td> <td> 0.000</td> <td>    0.851</td> <td>    1.583</td>\n",
              "</tr>\n",
              "<tr>\n",
              "  <th>ma.L3</th>  <td>   -0.6873</td> <td>    0.245</td> <td>   -2.809</td> <td> 0.005</td> <td>   -1.167</td> <td>   -0.208</td>\n",
              "</tr>\n",
              "<tr>\n",
              "  <th>ma.L4</th>  <td>    0.6686</td> <td>    0.176</td> <td>    3.800</td> <td> 0.000</td> <td>    0.324</td> <td>    1.013</td>\n",
              "</tr>\n",
              "<tr>\n",
              "  <th>ma.L5</th>  <td>   -0.0116</td> <td>    0.138</td> <td>   -0.084</td> <td> 0.933</td> <td>   -0.282</td> <td>    0.259</td>\n",
              "</tr>\n",
              "<tr>\n",
              "  <th>sigma2</th> <td> 1.423e+05</td> <td> 1.22e+04</td> <td>   11.662</td> <td> 0.000</td> <td> 1.18e+05</td> <td> 1.66e+05</td>\n",
              "</tr>\n",
              "</table>\n",
              "<table class=\"simpletable\">\n",
              "<tr>\n",
              "  <th>Ljung-Box (L1) (Q):</th>      <td>0.00</td>  <th>  Jarque-Bera (JB):  </th> <td>241.01</td>\n",
              "</tr>\n",
              "<tr>\n",
              "  <th>Prob(Q):</th>                 <td>0.97</td>  <th>  Prob(JB):          </th>  <td>0.00</td> \n",
              "</tr>\n",
              "<tr>\n",
              "  <th>Heteroskedasticity (H):</th> <td>160.48</td> <th>  Skew:              </th>  <td>-0.12</td>\n",
              "</tr>\n",
              "<tr>\n",
              "  <th>Prob(H) (two-sided):</th>     <td>0.00</td>  <th>  Kurtosis:          </th>  <td>6.99</td> \n",
              "</tr>\n",
              "</table><br/><br/>Warnings:<br/>[1] Covariance matrix calculated using the outer product of gradients (complex-step)."
            ],
            "text/plain": [
              "<class 'statsmodels.iolib.summary.Summary'>\n",
              "\"\"\"\n",
              "                               SARIMAX Results                                \n",
              "==============================================================================\n",
              "Dep. Variable:                      y   No. Observations:                  364\n",
              "Model:               SARIMAX(5, 2, 5)   Log Likelihood               -2580.848\n",
              "Date:                Wed, 27 Jan 2021   AIC                           5183.697\n",
              "Time:                        14:35:52   BIC                           5226.505\n",
              "Sample:                             0   HQIC                          5200.714\n",
              "                                - 364                                         \n",
              "Covariance Type:                  opg                                         \n",
              "==============================================================================\n",
              "                 coef    std err          z      P>|z|      [0.025      0.975]\n",
              "------------------------------------------------------------------------------\n",
              "ar.L1          0.2444      0.139      1.759      0.079      -0.028       0.517\n",
              "ar.L2         -0.9937      0.111     -8.915      0.000      -1.212      -0.775\n",
              "ar.L3          0.0013      0.193      0.007      0.995      -0.377       0.380\n",
              "ar.L4         -0.5401      0.110     -4.912      0.000      -0.756      -0.325\n",
              "ar.L5         -0.5280      0.130     -4.062      0.000      -0.783      -0.273\n",
              "ma.L1         -0.8254      0.165     -5.014      0.000      -1.148      -0.503\n",
              "ma.L2          1.2173      0.187      6.516      0.000       0.851       1.583\n",
              "ma.L3         -0.6873      0.245     -2.809      0.005      -1.167      -0.208\n",
              "ma.L4          0.6686      0.176      3.800      0.000       0.324       1.013\n",
              "ma.L5         -0.0116      0.138     -0.084      0.933      -0.282       0.259\n",
              "sigma2      1.423e+05   1.22e+04     11.662      0.000    1.18e+05    1.66e+05\n",
              "===================================================================================\n",
              "Ljung-Box (L1) (Q):                   0.00   Jarque-Bera (JB):               241.01\n",
              "Prob(Q):                              0.97   Prob(JB):                         0.00\n",
              "Heteroskedasticity (H):             160.48   Skew:                            -0.12\n",
              "Prob(H) (two-sided):                  0.00   Kurtosis:                         6.99\n",
              "===================================================================================\n",
              "\n",
              "Warnings:\n",
              "[1] Covariance matrix calculated using the outer product of gradients (complex-step).\n",
              "\"\"\""
            ]
          },
          "metadata": {
            "tags": []
          },
          "execution_count": 161
        }
      ]
    },
    {
      "cell_type": "markdown",
      "metadata": {
        "id": "ekBL7NTGQr5a"
      },
      "source": [
        "Donc l'ordre est (5,2,5)"
      ]
    },
    {
      "cell_type": "code",
      "metadata": {
        "colab": {
          "base_uri": "https://localhost:8080/",
          "height": 1000
        },
        "id": "-Gl-i7DR2zxt",
        "outputId": "8f39f7a9-fd4d-429f-d0f4-bc7c9f795629"
      },
      "source": [
        "ModeARIMA=ARIMA(ts_train,order=(5,2,5))\r\n",
        "modelARIMA_fit=ModeARIMA.fit()\r\n",
        "modelARIMA_fit.summary()"
      ],
      "execution_count": 162,
      "outputs": [
        {
          "output_type": "stream",
          "text": [
            "/usr/local/lib/python3.6/dist-packages/statsmodels/tsa/arima_model.py:472: FutureWarning: \n",
            "statsmodels.tsa.arima_model.ARMA and statsmodels.tsa.arima_model.ARIMA have\n",
            "been deprecated in favor of statsmodels.tsa.arima.model.ARIMA (note the .\n",
            "between arima and model) and\n",
            "statsmodels.tsa.SARIMAX. These will be removed after the 0.12 release.\n",
            "\n",
            "statsmodels.tsa.arima.model.ARIMA makes use of the statespace framework and\n",
            "is both well tested and maintained.\n",
            "\n",
            "To silence this warning and continue using ARMA and ARIMA until they are\n",
            "removed, use:\n",
            "\n",
            "import warnings\n",
            "warnings.filterwarnings('ignore', 'statsmodels.tsa.arima_model.ARMA',\n",
            "                        FutureWarning)\n",
            "warnings.filterwarnings('ignore', 'statsmodels.tsa.arima_model.ARIMA',\n",
            "                        FutureWarning)\n",
            "\n",
            "  warnings.warn(ARIMA_DEPRECATION_WARN, FutureWarning)\n",
            "/usr/local/lib/python3.6/dist-packages/statsmodels/tsa/base/tsa_model.py:527: ValueWarning: No frequency information was provided, so inferred frequency D will be used.\n",
            "  % freq, ValueWarning)\n",
            "/usr/local/lib/python3.6/dist-packages/statsmodels/tsa/base/tsa_model.py:527: ValueWarning: No frequency information was provided, so inferred frequency D will be used.\n",
            "  % freq, ValueWarning)\n",
            "/usr/local/lib/python3.6/dist-packages/statsmodels/base/model.py:548: HessianInversionWarning: Inverting hessian failed, no bse or cov_params available\n",
            "  'available', HessianInversionWarning)\n",
            "/usr/local/lib/python3.6/dist-packages/statsmodels/tsa/arima_model.py:472: FutureWarning: \n",
            "statsmodels.tsa.arima_model.ARMA and statsmodels.tsa.arima_model.ARIMA have\n",
            "been deprecated in favor of statsmodels.tsa.arima.model.ARIMA (note the .\n",
            "between arima and model) and\n",
            "statsmodels.tsa.SARIMAX. These will be removed after the 0.12 release.\n",
            "\n",
            "statsmodels.tsa.arima.model.ARIMA makes use of the statespace framework and\n",
            "is both well tested and maintained.\n",
            "\n",
            "To silence this warning and continue using ARMA and ARIMA until they are\n",
            "removed, use:\n",
            "\n",
            "import warnings\n",
            "warnings.filterwarnings('ignore', 'statsmodels.tsa.arima_model.ARMA',\n",
            "                        FutureWarning)\n",
            "warnings.filterwarnings('ignore', 'statsmodels.tsa.arima_model.ARIMA',\n",
            "                        FutureWarning)\n",
            "\n",
            "  warnings.warn(ARIMA_DEPRECATION_WARN, FutureWarning)\n",
            "/usr/local/lib/python3.6/dist-packages/statsmodels/tsa/arima_model.py:1521: RuntimeWarning: invalid value encountered in sqrt\n",
            "  return np.sqrt(np.diag(-inv(hess)))\n"
          ],
          "name": "stderr"
        },
        {
          "output_type": "execute_result",
          "data": {
            "text/html": [
              "<table class=\"simpletable\">\n",
              "<caption>ARIMA Model Results</caption>\n",
              "<tr>\n",
              "  <th>Dep. Variable:</th>       <td>D2.y</td>       <th>  No. Observations:  </th>    <td>289</td>   \n",
              "</tr>\n",
              "<tr>\n",
              "  <th>Model:</th>          <td>ARIMA(5, 2, 5)</td>  <th>  Log Likelihood     </th> <td>-2001.483</td>\n",
              "</tr>\n",
              "<tr>\n",
              "  <th>Method:</th>             <td>css-mle</td>     <th>  S.D. of innovations</th>  <td>233.666</td> \n",
              "</tr>\n",
              "<tr>\n",
              "  <th>Date:</th>          <td>Wed, 27 Jan 2021</td> <th>  AIC                </th> <td>4026.966</td> \n",
              "</tr>\n",
              "<tr>\n",
              "  <th>Time:</th>              <td>14:35:54</td>     <th>  BIC                </th> <td>4070.963</td> \n",
              "</tr>\n",
              "<tr>\n",
              "  <th>Sample:</th>           <td>01-24-2020</td>    <th>  HQIC               </th> <td>4044.595</td> \n",
              "</tr>\n",
              "<tr>\n",
              "  <th></th>                 <td>- 11-07-2020</td>   <th>                     </th>     <td> </td>    \n",
              "</tr>\n",
              "</table>\n",
              "<table class=\"simpletable\">\n",
              "<tr>\n",
              "       <td></td>         <th>coef</th>     <th>std err</th>      <th>z</th>      <th>P>|z|</th>  <th>[0.025</th>    <th>0.975]</th>  \n",
              "</tr>\n",
              "<tr>\n",
              "  <th>const</th>      <td>   14.4436</td> <td>      nan</td> <td>      nan</td> <td>   nan</td> <td>      nan</td> <td>      nan</td>\n",
              "</tr>\n",
              "<tr>\n",
              "  <th>ar.L1.D2.y</th> <td>   -0.1284</td> <td>      nan</td> <td>      nan</td> <td>   nan</td> <td>      nan</td> <td>      nan</td>\n",
              "</tr>\n",
              "<tr>\n",
              "  <th>ar.L2.D2.y</th> <td>   -0.7000</td> <td> 4.08e-05</td> <td>-1.72e+04</td> <td> 0.000</td> <td>   -0.700</td> <td>   -0.700</td>\n",
              "</tr>\n",
              "<tr>\n",
              "  <th>ar.L3.D2.y</th> <td>   -0.6238</td> <td> 4.24e-05</td> <td>-1.47e+04</td> <td> 0.000</td> <td>   -0.624</td> <td>   -0.624</td>\n",
              "</tr>\n",
              "<tr>\n",
              "  <th>ar.L4.D2.y</th> <td>   -0.2091</td> <td> 7.38e-06</td> <td>-2.83e+04</td> <td> 0.000</td> <td>   -0.209</td> <td>   -0.209</td>\n",
              "</tr>\n",
              "<tr>\n",
              "  <th>ar.L5.D2.y</th> <td>   -0.9403</td> <td>      nan</td> <td>      nan</td> <td>   nan</td> <td>      nan</td> <td>      nan</td>\n",
              "</tr>\n",
              "<tr>\n",
              "  <th>ma.L1.D2.y</th> <td>   -0.1740</td> <td>    0.037</td> <td>   -4.743</td> <td> 0.000</td> <td>   -0.246</td> <td>   -0.102</td>\n",
              "</tr>\n",
              "<tr>\n",
              "  <th>ma.L2.D2.y</th> <td>    0.4732</td> <td>    0.032</td> <td>   14.751</td> <td> 0.000</td> <td>    0.410</td> <td>    0.536</td>\n",
              "</tr>\n",
              "<tr>\n",
              "  <th>ma.L3.D2.y</th> <td>    0.6292</td> <td>    0.025</td> <td>   24.863</td> <td> 0.000</td> <td>    0.580</td> <td>    0.679</td>\n",
              "</tr>\n",
              "<tr>\n",
              "  <th>ma.L4.D2.y</th> <td>   -0.1580</td> <td>    0.034</td> <td>   -4.618</td> <td> 0.000</td> <td>   -0.225</td> <td>   -0.091</td>\n",
              "</tr>\n",
              "<tr>\n",
              "  <th>ma.L5.D2.y</th> <td>    0.8600</td> <td>    0.034</td> <td>   25.463</td> <td> 0.000</td> <td>    0.794</td> <td>    0.926</td>\n",
              "</tr>\n",
              "</table>\n",
              "<table class=\"simpletable\">\n",
              "<caption>Roots</caption>\n",
              "<tr>\n",
              "    <td></td>   <th>            Real</th>  <th>         Imaginary</th> <th>         Modulus</th>  <th>        Frequency</th>\n",
              "</tr>\n",
              "<tr>\n",
              "  <th>AR.1</th> <td>           0.6134</td> <td>          -0.7898j</td> <td>           1.0000</td> <td>          -0.1449</td>\n",
              "</tr>\n",
              "<tr>\n",
              "  <th>AR.2</th> <td>           0.6134</td> <td>          +0.7898j</td> <td>           1.0000</td> <td>           0.1449</td>\n",
              "</tr>\n",
              "<tr>\n",
              "  <th>AR.3</th> <td>          -1.0442</td> <td>          -0.0000j</td> <td>           1.0442</td> <td>          -0.5000</td>\n",
              "</tr>\n",
              "<tr>\n",
              "  <th>AR.4</th> <td>          -0.2025</td> <td>          -0.9887j</td> <td>           1.0092</td> <td>          -0.2821</td>\n",
              "</tr>\n",
              "<tr>\n",
              "  <th>AR.5</th> <td>          -0.2025</td> <td>          +0.9887j</td> <td>           1.0092</td> <td>           0.2821</td>\n",
              "</tr>\n",
              "<tr>\n",
              "  <th>MA.1</th> <td>          -1.0000</td> <td>          -0.0000j</td> <td>           1.0000</td> <td>          -0.5000</td>\n",
              "</tr>\n",
              "<tr>\n",
              "  <th>MA.2</th> <td>           0.6815</td> <td>          -0.7477j</td> <td>           1.0116</td> <td>          -0.1324</td>\n",
              "</tr>\n",
              "<tr>\n",
              "  <th>MA.3</th> <td>           0.6815</td> <td>          +0.7477j</td> <td>           1.0116</td> <td>           0.1324</td>\n",
              "</tr>\n",
              "<tr>\n",
              "  <th>MA.4</th> <td>          -0.0896</td> <td>          -1.0621j</td> <td>           1.0659</td> <td>          -0.2634</td>\n",
              "</tr>\n",
              "<tr>\n",
              "  <th>MA.5</th> <td>          -0.0896</td> <td>          +1.0621j</td> <td>           1.0659</td> <td>           0.2634</td>\n",
              "</tr>\n",
              "</table>"
            ],
            "text/plain": [
              "<class 'statsmodels.iolib.summary.Summary'>\n",
              "\"\"\"\n",
              "                             ARIMA Model Results                              \n",
              "==============================================================================\n",
              "Dep. Variable:                   D2.y   No. Observations:                  289\n",
              "Model:                 ARIMA(5, 2, 5)   Log Likelihood               -2001.483\n",
              "Method:                       css-mle   S.D. of innovations            233.666\n",
              "Date:                Wed, 27 Jan 2021   AIC                           4026.966\n",
              "Time:                        14:35:54   BIC                           4070.963\n",
              "Sample:                    01-24-2020   HQIC                          4044.595\n",
              "                         - 11-07-2020                                         \n",
              "==============================================================================\n",
              "                 coef    std err          z      P>|z|      [0.025      0.975]\n",
              "------------------------------------------------------------------------------\n",
              "const         14.4436        nan        nan        nan         nan         nan\n",
              "ar.L1.D2.y    -0.1284        nan        nan        nan         nan         nan\n",
              "ar.L2.D2.y    -0.7000   4.08e-05  -1.72e+04      0.000      -0.700      -0.700\n",
              "ar.L3.D2.y    -0.6238   4.24e-05  -1.47e+04      0.000      -0.624      -0.624\n",
              "ar.L4.D2.y    -0.2091   7.38e-06  -2.83e+04      0.000      -0.209      -0.209\n",
              "ar.L5.D2.y    -0.9403        nan        nan        nan         nan         nan\n",
              "ma.L1.D2.y    -0.1740      0.037     -4.743      0.000      -0.246      -0.102\n",
              "ma.L2.D2.y     0.4732      0.032     14.751      0.000       0.410       0.536\n",
              "ma.L3.D2.y     0.6292      0.025     24.863      0.000       0.580       0.679\n",
              "ma.L4.D2.y    -0.1580      0.034     -4.618      0.000      -0.225      -0.091\n",
              "ma.L5.D2.y     0.8600      0.034     25.463      0.000       0.794       0.926\n",
              "                                    Roots                                    \n",
              "=============================================================================\n",
              "                  Real          Imaginary           Modulus         Frequency\n",
              "-----------------------------------------------------------------------------\n",
              "AR.1            0.6134           -0.7898j            1.0000           -0.1449\n",
              "AR.2            0.6134           +0.7898j            1.0000            0.1449\n",
              "AR.3           -1.0442           -0.0000j            1.0442           -0.5000\n",
              "AR.4           -0.2025           -0.9887j            1.0092           -0.2821\n",
              "AR.5           -0.2025           +0.9887j            1.0092            0.2821\n",
              "MA.1           -1.0000           -0.0000j            1.0000           -0.5000\n",
              "MA.2            0.6815           -0.7477j            1.0116           -0.1324\n",
              "MA.3            0.6815           +0.7477j            1.0116            0.1324\n",
              "MA.4           -0.0896           -1.0621j            1.0659           -0.2634\n",
              "MA.5           -0.0896           +1.0621j            1.0659            0.2634\n",
              "-----------------------------------------------------------------------------\n",
              "\"\"\""
            ]
          },
          "metadata": {
            "tags": []
          },
          "execution_count": 162
        }
      ]
    },
    {
      "cell_type": "code",
      "metadata": {
        "colab": {
          "base_uri": "https://localhost:8080/"
        },
        "id": "-2uRYRAW3uWm",
        "outputId": "e270a7dd-cd5b-4d0e-b583-8a950a49554b"
      },
      "source": [
        "predictions_ARIMA=modelARIMA_fit.predict(stardate,enddate,typ=\"levels\")\r\n",
        "predictions_ARIMA"
      ],
      "execution_count": 163,
      "outputs": [
        {
          "output_type": "execute_result",
          "data": {
            "text/plain": [
              "2020-11-08    257196.226193\n",
              "2020-11-09    261683.838599\n",
              "2020-11-10    267429.339173\n",
              "2020-11-11    274274.175063\n",
              "2020-11-12    280508.124966\n",
              "                  ...      \n",
              "2021-01-15    676533.717943\n",
              "2021-01-16    682279.594034\n",
              "2021-01-17    688571.781126\n",
              "2021-01-18    695250.152400\n",
              "2021-01-19    702299.226685\n",
              "Freq: D, Length: 73, dtype: float64"
            ]
          },
          "metadata": {
            "tags": []
          },
          "execution_count": 163
        }
      ]
    },
    {
      "cell_type": "code",
      "metadata": {
        "colab": {
          "base_uri": "https://localhost:8080/"
        },
        "id": "tponulNM4WCX",
        "outputId": "577568a1-8975-4a43-f1af-c4eb70c2760f"
      },
      "source": [
        "RMSE_ARIMA=np.sqrt(mean_squared_error(ts_test,predictions_ARIMA))\r\n",
        "RMSE_ARIMA"
      ],
      "execution_count": 167,
      "outputs": [
        {
          "output_type": "execute_result",
          "data": {
            "text/plain": [
              "113635.14436306363"
            ]
          },
          "metadata": {
            "tags": []
          },
          "execution_count": 167
        }
      ]
    },
    {
      "cell_type": "markdown",
      "metadata": {
        "id": "3AVfsux2Q3Kc"
      },
      "source": [
        ""
      ]
    }
  ]
}